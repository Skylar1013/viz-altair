{
 "cells": [
  {
   "cell_type": "markdown",
   "metadata": {},
   "source": [
    "# Interactive Scatter Plot in Altair\n",
    "\n",
    "\n",
    "Small real-world dataset recording the number of road fatalities in the United Kingdom, from 1969 to 1984."
   ]
  },
  {
   "cell_type": "code",
   "execution_count": null,
   "metadata": {},
   "outputs": [],
   "source": [
    "%matplotlib inline\n",
    "\n",
    "import pandas as pd\n",
    "import altair as alt\n",
    "import numpy as np"
   ]
  },
  {
   "cell_type": "code",
   "execution_count": null,
   "metadata": {},
   "outputs": [],
   "source": [
    "fatalities_df = pd.read_csv('./data/ukDriverFatalities.csv')\n",
    "fatalities_df.head()"
   ]
  },
  {
   "cell_type": "markdown",
   "metadata": {},
   "source": [
    "## Task 1\n",
    "\n",
    "One heatmap showing the year in one axis, month in another, and the color should encode the number of deaths. Add legend.\n",
    "\n",
    "### Heatmap\n",
    "\n",
    "  - Year in one axis\n",
    "  - Month in second axis\n",
    "  - Color should encodes the number of deaths\n",
    "  - Add legend"
   ]
  },
  {
   "cell_type": "code",
   "execution_count": null,
   "metadata": {
    "colab": {
     "base_uri": "https://localhost:8080/",
     "height": 402
    },
    "id": "trDq3svA-xYn",
    "outputId": "ec20d4b5-1dc1-4b1f-825e-7593a7f5f5b4"
   },
   "outputs": [],
   "source": [
    "min_month, max_month = min(fatalities_df['month']),max(fatalities_df['month'])\n",
    "min_year, max_year = min(fatalities_df['year']),max(fatalities_df['year'])\n",
    "\n",
    "x, y = np.meshgrid(range(min_month,max_month+1), range(min_year, max_year+1))\n",
    "deaths = fatalities_df.pivot(index='month', columns='year', values='count').to_numpy()\n",
    "\n",
    "source = pd.DataFrame({'month': x.ravel(),\n",
    "                       'year': y.ravel(),\n",
    "                       'deaths': deaths.ravel()})\n",
    "\n",
    "\n",
    "alt.Chart(source, title=\"Deaths across time\").mark_rect().encode(\n",
    "    x=alt.X('month:O',scale=alt.Scale(zero=False)),\n",
    "    y=alt.Y('year:O',scale=alt.Scale(zero=False)),\n",
    "    color=alt.Color('deaths:Q'),\n",
    "    tooltip=(['deaths'])\n",
    ")"
   ]
  },
  {
   "cell_type": "markdown",
   "metadata": {
    "id": "lCEyL1bAAY-G"
   },
   "source": [
    "## Task 2\n",
    "\n",
    "One line chart showing the total number of deaths over the years."
   ]
  },
  {
   "cell_type": "code",
   "execution_count": null,
   "metadata": {
    "colab": {
     "base_uri": "https://localhost:8080/",
     "height": 385
    },
    "id": "bl_vzlN5zNkn",
    "outputId": "8f9308c7-e24a-4233-93cc-efe2b99b7a2d"
   },
   "outputs": [],
   "source": [
    "alt.Chart(fatalities_df, title=\"Total deaths over the years\").mark_line().encode(\n",
    "  x='year',\n",
    "  y='sum(count)',\n",
    "  tooltip=([alt.Tooltip('sum(count)', title='Total Deaths')])\n",
    ").interactive(bind_y=False)"
   ]
  }
 ],
 "metadata": {
  "colab": {
   "collapsed_sections": [],
   "include_colab_link": true,
   "name": "altair.ipynb",
   "provenance": [],
   "toc_visible": true
  },
  "kernelspec": {
   "display_name": "Python 3",
   "language": "python",
   "name": "python3"
  },
  "language_info": {
   "codemirror_mode": {
    "name": "ipython",
    "version": 3
   },
   "file_extension": ".py",
   "mimetype": "text/x-python",
   "name": "python",
   "nbconvert_exporter": "python",
   "pygments_lexer": "ipython3",
   "version": "3.8.5"
  }
 },
 "nbformat": 4,
 "nbformat_minor": 1
}
