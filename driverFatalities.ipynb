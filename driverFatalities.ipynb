{
 "cells": [
  {
   "cell_type": "markdown",
   "metadata": {},
   "source": [
    "# Interactive Scatter Plot in Altair\n",
    "\n",
    "\n",
    "Small real-world dataset recording the number of road fatalities in the United Kingdom, from 1969 to 1984."
   ]
  },
  {
   "cell_type": "code",
   "execution_count": 1,
   "metadata": {},
   "outputs": [],
   "source": [
    "%matplotlib inline\n",
    "\n",
    "import pandas as pd\n",
    "import altair as alt\n",
    "import numpy as np"
   ]
  },
  {
   "cell_type": "code",
   "execution_count": 2,
   "metadata": {},
   "outputs": [
    {
     "data": {
      "text/html": [
       "<div>\n",
       "<style scoped>\n",
       "    .dataframe tbody tr th:only-of-type {\n",
       "        vertical-align: middle;\n",
       "    }\n",
       "\n",
       "    .dataframe tbody tr th {\n",
       "        vertical-align: top;\n",
       "    }\n",
       "\n",
       "    .dataframe thead th {\n",
       "        text-align: right;\n",
       "    }\n",
       "</style>\n",
       "<table border=\"1\" class=\"dataframe\">\n",
       "  <thead>\n",
       "    <tr style=\"text-align: right;\">\n",
       "      <th></th>\n",
       "      <th>month</th>\n",
       "      <th>year</th>\n",
       "      <th>count</th>\n",
       "    </tr>\n",
       "  </thead>\n",
       "  <tbody>\n",
       "    <tr>\n",
       "      <th>0</th>\n",
       "      <td>0</td>\n",
       "      <td>1969</td>\n",
       "      <td>1687</td>\n",
       "    </tr>\n",
       "    <tr>\n",
       "      <th>1</th>\n",
       "      <td>1</td>\n",
       "      <td>1969</td>\n",
       "      <td>1508</td>\n",
       "    </tr>\n",
       "    <tr>\n",
       "      <th>2</th>\n",
       "      <td>2</td>\n",
       "      <td>1969</td>\n",
       "      <td>1507</td>\n",
       "    </tr>\n",
       "    <tr>\n",
       "      <th>3</th>\n",
       "      <td>3</td>\n",
       "      <td>1969</td>\n",
       "      <td>1385</td>\n",
       "    </tr>\n",
       "    <tr>\n",
       "      <th>4</th>\n",
       "      <td>4</td>\n",
       "      <td>1969</td>\n",
       "      <td>1632</td>\n",
       "    </tr>\n",
       "  </tbody>\n",
       "</table>\n",
       "</div>"
      ],
      "text/plain": [
       "   month  year  count\n",
       "0      0  1969   1687\n",
       "1      1  1969   1508\n",
       "2      2  1969   1507\n",
       "3      3  1969   1385\n",
       "4      4  1969   1632"
      ]
     },
     "execution_count": 2,
     "metadata": {},
     "output_type": "execute_result"
    }
   ],
   "source": [
    "fatalities_df = pd.read_csv('./data/ukDriverFatalities.csv')\n",
    "fatalities_df.head()"
   ]
  },
  {
   "cell_type": "markdown",
   "metadata": {},
   "source": [
    "## Task 1\n",
    "\n",
    "One heatmap showing the year in one axis, month in another, and the color should encode the number of deaths. Add legend.\n",
    "\n",
    "### Heatmap\n",
    "\n",
    "  - Year in one axis\n",
    "  - Month in second axis\n",
    "  - Color should encodes the number of deaths\n",
    "  - Add legend"
   ]
  },
  {
   "cell_type": "code",
   "execution_count": 3,
   "metadata": {
    "colab": {
     "base_uri": "https://localhost:8080/",
     "height": 402
    },
    "id": "trDq3svA-xYn",
    "outputId": "ec20d4b5-1dc1-4b1f-825e-7593a7f5f5b4"
   },
   "outputs": [
    {
     "data": {
      "text/html": [
       "\n",
       "<div id=\"altair-viz-d4eedaa3dbf54cc9b781133a3ecd085a\"></div>\n",
       "<script type=\"text/javascript\">\n",
       "  (function(spec, embedOpt){\n",
       "    let outputDiv = document.currentScript.previousElementSibling;\n",
       "    if (outputDiv.id !== \"altair-viz-d4eedaa3dbf54cc9b781133a3ecd085a\") {\n",
       "      outputDiv = document.getElementById(\"altair-viz-d4eedaa3dbf54cc9b781133a3ecd085a\");\n",
       "    }\n",
       "    const paths = {\n",
       "      \"vega\": \"https://cdn.jsdelivr.net/npm//vega@5?noext\",\n",
       "      \"vega-lib\": \"https://cdn.jsdelivr.net/npm//vega-lib?noext\",\n",
       "      \"vega-lite\": \"https://cdn.jsdelivr.net/npm//vega-lite@4.8.1?noext\",\n",
       "      \"vega-embed\": \"https://cdn.jsdelivr.net/npm//vega-embed@6?noext\",\n",
       "    };\n",
       "\n",
       "    function loadScript(lib) {\n",
       "      return new Promise(function(resolve, reject) {\n",
       "        var s = document.createElement('script');\n",
       "        s.src = paths[lib];\n",
       "        s.async = true;\n",
       "        s.onload = () => resolve(paths[lib]);\n",
       "        s.onerror = () => reject(`Error loading script: ${paths[lib]}`);\n",
       "        document.getElementsByTagName(\"head\")[0].appendChild(s);\n",
       "      });\n",
       "    }\n",
       "\n",
       "    function showError(err) {\n",
       "      outputDiv.innerHTML = `<div class=\"error\" style=\"color:red;\">${err}</div>`;\n",
       "      throw err;\n",
       "    }\n",
       "\n",
       "    function displayChart(vegaEmbed) {\n",
       "      vegaEmbed(outputDiv, spec, embedOpt)\n",
       "        .catch(err => showError(`Javascript Error: ${err.message}<br>This usually means there's a typo in your chart specification. See the javascript console for the full traceback.`));\n",
       "    }\n",
       "\n",
       "    if(typeof define === \"function\" && define.amd) {\n",
       "      requirejs.config({paths});\n",
       "      require([\"vega-embed\"], displayChart, err => showError(`Error loading script: ${err.message}`));\n",
       "    } else if (typeof vegaEmbed === \"function\") {\n",
       "      displayChart(vegaEmbed);\n",
       "    } else {\n",
       "      loadScript(\"vega\")\n",
       "        .then(() => loadScript(\"vega-lite\"))\n",
       "        .then(() => loadScript(\"vega-embed\"))\n",
       "        .catch(showError)\n",
       "        .then(() => displayChart(vegaEmbed));\n",
       "    }\n",
       "  })({\"config\": {\"view\": {\"continuousWidth\": 400, \"continuousHeight\": 300}}, \"data\": {\"name\": \"data-e2dfb26fd6cf8a83e7da2999520c5895\"}, \"mark\": \"rect\", \"encoding\": {\"color\": {\"type\": \"quantitative\", \"field\": \"deaths\"}, \"tooltip\": [{\"type\": \"quantitative\", \"field\": \"deaths\"}], \"x\": {\"type\": \"ordinal\", \"field\": \"month\", \"scale\": {\"zero\": false}}, \"y\": {\"type\": \"ordinal\", \"field\": \"year\", \"scale\": {\"zero\": false}}}, \"title\": \"Deaths across time\", \"$schema\": \"https://vega.github.io/schema/vega-lite/v4.8.1.json\", \"datasets\": {\"data-e2dfb26fd6cf8a83e7da2999520c5895\": [{\"month\": 0, \"year\": 1969, \"deaths\": 1687}, {\"month\": 1, \"year\": 1969, \"deaths\": 1752}, {\"month\": 2, \"year\": 1969, \"deaths\": 2030}, {\"month\": 3, \"year\": 1969, \"deaths\": 2080}, {\"month\": 4, \"year\": 1969, \"deaths\": 2097}, {\"month\": 5, \"year\": 1969, \"deaths\": 1608}, {\"month\": 6, \"year\": 1969, \"deaths\": 1577}, {\"month\": 7, \"year\": 1969, \"deaths\": 1473}, {\"month\": 8, \"year\": 1969, \"deaths\": 1648}, {\"month\": 9, \"year\": 1969, \"deaths\": 1956}, {\"month\": 10, \"year\": 1969, \"deaths\": 1813}, {\"month\": 11, \"year\": 1969, \"deaths\": 1665}, {\"month\": 0, \"year\": 1970, \"deaths\": 1474}, {\"month\": 1, \"year\": 1970, \"deaths\": 1456}, {\"month\": 2, \"year\": 1970, \"deaths\": 1494}, {\"month\": 3, \"year\": 1970, \"deaths\": 1357}, {\"month\": 4, \"year\": 1970, \"deaths\": 1508}, {\"month\": 5, \"year\": 1970, \"deaths\": 1765}, {\"month\": 6, \"year\": 1970, \"deaths\": 1655}, {\"month\": 7, \"year\": 1970, \"deaths\": 1768}, {\"month\": 8, \"year\": 1970, \"deaths\": 1963}, {\"month\": 9, \"year\": 1970, \"deaths\": 1503}, {\"month\": 10, \"year\": 1970, \"deaths\": 1356}, {\"month\": 11, \"year\": 1970, \"deaths\": 1655}, {\"month\": 0, \"year\": 1971, \"deaths\": 1401}, {\"month\": 1, \"year\": 1971, \"deaths\": 1462}, {\"month\": 2, \"year\": 1971, \"deaths\": 1445}, {\"month\": 3, \"year\": 1971, \"deaths\": 1361}, {\"month\": 4, \"year\": 1971, \"deaths\": 1458}, {\"month\": 5, \"year\": 1971, \"deaths\": 1445}, {\"month\": 6, \"year\": 1971, \"deaths\": 1057}, {\"month\": 7, \"year\": 1971, \"deaths\": 1165}, {\"month\": 8, \"year\": 1971, \"deaths\": 1507}, {\"month\": 9, \"year\": 1971, \"deaths\": 1717}, {\"month\": 10, \"year\": 1971, \"deaths\": 1693}, {\"month\": 11, \"year\": 1971, \"deaths\": 1835}, {\"month\": 0, \"year\": 1972, \"deaths\": 1677}, {\"month\": 1, \"year\": 1972, \"deaths\": 1548}, {\"month\": 2, \"year\": 1972, \"deaths\": 1652}, {\"month\": 3, \"year\": 1972, \"deaths\": 1407}, {\"month\": 4, \"year\": 1972, \"deaths\": 1411}, {\"month\": 5, \"year\": 1972, \"deaths\": 1563}, {\"month\": 6, \"year\": 1972, \"deaths\": 1762}, {\"month\": 7, \"year\": 1972, \"deaths\": 1506}, {\"month\": 8, \"year\": 1972, \"deaths\": 1542}, {\"month\": 9, \"year\": 1972, \"deaths\": 1456}, {\"month\": 10, \"year\": 1972, \"deaths\": 1218}, {\"month\": 11, \"year\": 1972, \"deaths\": 1282}, {\"month\": 0, \"year\": 1973, \"deaths\": 1385}, {\"month\": 1, \"year\": 1973, \"deaths\": 1558}, {\"month\": 2, \"year\": 1973, \"deaths\": 1623}, {\"month\": 3, \"year\": 1973, \"deaths\": 1569}, {\"month\": 4, \"year\": 1973, \"deaths\": 1941}, {\"month\": 5, \"year\": 1973, \"deaths\": 1382}, {\"month\": 6, \"year\": 1973, \"deaths\": 1382}, {\"month\": 7, \"year\": 1973, \"deaths\": 1395}, {\"month\": 8, \"year\": 1973, \"deaths\": 1403}, {\"month\": 9, \"year\": 1973, \"deaths\": 1459}, {\"month\": 10, \"year\": 1973, \"deaths\": 1461}, {\"month\": 11, \"year\": 1973, \"deaths\": 1360}, {\"month\": 0, \"year\": 1974, \"deaths\": 1404}, {\"month\": 1, \"year\": 1974, \"deaths\": 1365}, {\"month\": 2, \"year\": 1974, \"deaths\": 1168}, {\"month\": 3, \"year\": 1974, \"deaths\": 1110}, {\"month\": 4, \"year\": 1974, \"deaths\": 1632}, {\"month\": 5, \"year\": 1974, \"deaths\": 1575}, {\"month\": 6, \"year\": 1974, \"deaths\": 1805}, {\"month\": 7, \"year\": 1974, \"deaths\": 1976}, {\"month\": 8, \"year\": 1974, \"deaths\": 2003}, {\"month\": 9, \"year\": 1974, \"deaths\": 1731}, {\"month\": 10, \"year\": 1974, \"deaths\": 1519}, {\"month\": 11, \"year\": 1974, \"deaths\": 1530}, {\"month\": 0, \"year\": 1975, \"deaths\": 1394}, {\"month\": 1, \"year\": 1975, \"deaths\": 1446}, {\"month\": 2, \"year\": 1975, \"deaths\": 1556}, {\"month\": 3, \"year\": 1975, \"deaths\": 1453}, {\"month\": 4, \"year\": 1975, \"deaths\": 1522}, {\"month\": 5, \"year\": 1975, \"deaths\": 1487}, {\"month\": 6, \"year\": 1975, \"deaths\": 1236}, {\"month\": 7, \"year\": 1975, \"deaths\": 1297}, {\"month\": 8, \"year\": 1975, \"deaths\": 1511}, {\"month\": 9, \"year\": 1975, \"deaths\": 1520}, {\"month\": 10, \"year\": 1975, \"deaths\": 1746}, {\"month\": 11, \"year\": 1975, \"deaths\": 1853}, {\"month\": 0, \"year\": 1976, \"deaths\": 1813}, {\"month\": 1, \"year\": 1976, \"deaths\": 1798}, {\"month\": 2, \"year\": 1976, \"deaths\": 1421}, {\"month\": 3, \"year\": 1976, \"deaths\": 1309}, {\"month\": 4, \"year\": 1976, \"deaths\": 1520}, {\"month\": 5, \"year\": 1976, \"deaths\": 1622}, {\"month\": 6, \"year\": 1976, \"deaths\": 1431}, {\"month\": 7, \"year\": 1976, \"deaths\": 1522}, {\"month\": 8, \"year\": 1976, \"deaths\": 1385}, {\"month\": 9, \"year\": 1976, \"deaths\": 1558}, {\"month\": 10, \"year\": 1976, \"deaths\": 1076}, {\"month\": 11, \"year\": 1976, \"deaths\": 1185}, {\"month\": 0, \"year\": 1977, \"deaths\": 1559}, {\"month\": 1, \"year\": 1977, \"deaths\": 1805}, {\"month\": 2, \"year\": 1977, \"deaths\": 1795}, {\"month\": 3, \"year\": 1977, \"deaths\": 1965}, {\"month\": 4, \"year\": 1977, \"deaths\": 2012}, {\"month\": 5, \"year\": 1977, \"deaths\": 1779}, {\"month\": 6, \"year\": 1977, \"deaths\": 1442}, {\"month\": 7, \"year\": 1977, \"deaths\": 1526}, {\"month\": 8, \"year\": 1977, \"deaths\": 1528}, {\"month\": 9, \"year\": 1977, \"deaths\": 1657}, {\"month\": 10, \"year\": 1977, \"deaths\": 1427}, {\"month\": 11, \"year\": 1977, \"deaths\": 1460}, {\"month\": 0, \"year\": 1978, \"deaths\": 1641}, {\"month\": 1, \"year\": 1978, \"deaths\": 1488}, {\"month\": 2, \"year\": 1978, \"deaths\": 1174}, {\"month\": 3, \"year\": 1978, \"deaths\": 1222}, {\"month\": 4, \"year\": 1978, \"deaths\": 1630}, {\"month\": 5, \"year\": 1978, \"deaths\": 1800}, {\"month\": 6, \"year\": 1978, \"deaths\": 1926}, {\"month\": 7, \"year\": 1978, \"deaths\": 1689}, {\"month\": 8, \"year\": 1978, \"deaths\": 1912}, {\"month\": 9, \"year\": 1978, \"deaths\": 1887}, {\"month\": 10, \"year\": 1978, \"deaths\": 1543}, {\"month\": 11, \"year\": 1978, \"deaths\": 1327}, {\"month\": 0, \"year\": 1979, \"deaths\": 1643}, {\"month\": 1, \"year\": 1979, \"deaths\": 1638}, {\"month\": 2, \"year\": 1979, \"deaths\": 1554}, {\"month\": 3, \"year\": 1979, \"deaths\": 1552}, {\"month\": 4, \"year\": 1979, \"deaths\": 1510}, {\"month\": 5, \"year\": 1979, \"deaths\": 1684}, {\"month\": 6, \"year\": 1979, \"deaths\": 1139}, {\"month\": 7, \"year\": 1979, \"deaths\": 1284}, {\"month\": 8, \"year\": 1979, \"deaths\": 1579}, {\"month\": 9, \"year\": 1979, \"deaths\": 1719}, {\"month\": 10, \"year\": 1979, \"deaths\": 1619}, {\"month\": 11, \"year\": 1979, \"deaths\": 1778}, {\"month\": 0, \"year\": 1980, \"deaths\": 2084}, {\"month\": 1, \"year\": 1980, \"deaths\": 2004}, {\"month\": 2, \"year\": 1980, \"deaths\": 1656}, {\"month\": 3, \"year\": 1980, \"deaths\": 1627}, {\"month\": 4, \"year\": 1980, \"deaths\": 1515}, {\"month\": 5, \"year\": 1980, \"deaths\": 1643}, {\"month\": 6, \"year\": 1980, \"deaths\": 1645}, {\"month\": 7, \"year\": 1980, \"deaths\": 1548}, {\"month\": 8, \"year\": 1980, \"deaths\": 1681}, {\"month\": 9, \"year\": 1980, \"deaths\": 1594}, {\"month\": 10, \"year\": 1980, \"deaths\": 1427}, {\"month\": 11, \"year\": 1980, \"deaths\": 1444}, {\"month\": 0, \"year\": 1981, \"deaths\": 1653}, {\"month\": 1, \"year\": 1981, \"deaths\": 2008}, {\"month\": 2, \"year\": 1981, \"deaths\": 1992}, {\"month\": 3, \"year\": 1981, \"deaths\": 1976}, {\"month\": 4, \"year\": 1981, \"deaths\": 2080}, {\"month\": 5, \"year\": 1981, \"deaths\": 2077}, {\"month\": 6, \"year\": 1981, \"deaths\": 1561}, {\"month\": 7, \"year\": 1981, \"deaths\": 1748}, {\"month\": 8, \"year\": 1981, \"deaths\": 1685}, {\"month\": 9, \"year\": 1981, \"deaths\": 1683}, {\"month\": 10, \"year\": 1981, \"deaths\": 1653}, {\"month\": 11, \"year\": 1981, \"deaths\": 1827}, {\"month\": 0, \"year\": 1982, \"deaths\": 1938}, {\"month\": 1, \"year\": 1982, \"deaths\": 1850}, {\"month\": 2, \"year\": 1982, \"deaths\": 1487}, {\"month\": 3, \"year\": 1982, \"deaths\": 1575}, {\"month\": 4, \"year\": 1982, \"deaths\": 2152}, {\"month\": 5, \"year\": 1982, \"deaths\": 2242}, {\"month\": 6, \"year\": 1982, \"deaths\": 2233}, {\"month\": 7, \"year\": 1982, \"deaths\": 2397}, {\"month\": 8, \"year\": 1982, \"deaths\": 2118}, {\"month\": 9, \"year\": 1982, \"deaths\": 2092}, {\"month\": 10, \"year\": 1982, \"deaths\": 1905}, {\"month\": 11, \"year\": 1982, \"deaths\": 1958}, {\"month\": 0, \"year\": 1983, \"deaths\": 2000}, {\"month\": 1, \"year\": 1983, \"deaths\": 2050}, {\"month\": 2, \"year\": 1983, \"deaths\": 2016}, {\"month\": 3, \"year\": 1983, \"deaths\": 1737}, {\"month\": 4, \"year\": 1983, \"deaths\": 1868}, {\"month\": 5, \"year\": 1983, \"deaths\": 1998}, {\"month\": 6, \"year\": 1983, \"deaths\": 1483}, {\"month\": 7, \"year\": 1983, \"deaths\": 1737}, {\"month\": 8, \"year\": 1983, \"deaths\": 2148}, {\"month\": 9, \"year\": 1983, \"deaths\": 2478}, {\"month\": 10, \"year\": 1983, \"deaths\": 2192}, {\"month\": 11, \"year\": 1983, \"deaths\": 2654}, {\"month\": 0, \"year\": 1984, \"deaths\": 2150}, {\"month\": 1, \"year\": 1984, \"deaths\": 2051}, {\"month\": 2, \"year\": 1984, \"deaths\": 2199}, {\"month\": 3, \"year\": 1984, \"deaths\": 2274}, {\"month\": 4, \"year\": 1984, \"deaths\": 2215}, {\"month\": 5, \"year\": 1984, \"deaths\": 2262}, {\"month\": 6, \"year\": 1984, \"deaths\": 2207}, {\"month\": 7, \"year\": 1984, \"deaths\": 1941}, {\"month\": 8, \"year\": 1984, \"deaths\": 1726}, {\"month\": 9, \"year\": 1984, \"deaths\": 2079}, {\"month\": 10, \"year\": 1984, \"deaths\": 1513}, {\"month\": 11, \"year\": 1984, \"deaths\": 1763}]}}, {\"mode\": \"vega-lite\"});\n",
       "</script>"
      ],
      "text/plain": [
       "alt.Chart(...)"
      ]
     },
     "execution_count": 3,
     "metadata": {},
     "output_type": "execute_result"
    }
   ],
   "source": [
    "min_month, max_month = min(fatalities_df['month']),max(fatalities_df['month'])\n",
    "min_year, max_year = min(fatalities_df['year']),max(fatalities_df['year'])\n",
    "\n",
    "x, y = np.meshgrid(range(min_month,max_month+1), range(min_year, max_year+1))\n",
    "deaths = fatalities_df.pivot(index='month', columns='year', values='count').to_numpy()\n",
    "\n",
    "source = pd.DataFrame({'month': x.ravel(),\n",
    "                       'year': y.ravel(),\n",
    "                       'deaths': deaths.ravel()})\n",
    "\n",
    "\n",
    "alt.Chart(source, title=\"Deaths across time\").mark_rect().encode(\n",
    "    x=alt.X('month:O',scale=alt.Scale(zero=False)),\n",
    "    y=alt.Y('year:O',scale=alt.Scale(zero=False)),\n",
    "    color=alt.Color('deaths:Q'),\n",
    "    tooltip=(['deaths'])\n",
    ")"
   ]
  },
  {
   "cell_type": "markdown",
   "metadata": {
    "id": "lCEyL1bAAY-G"
   },
   "source": [
    "## Task 2\n",
    "\n",
    "One line chart showing the total number of deaths over the years."
   ]
  },
  {
   "cell_type": "code",
   "execution_count": 4,
   "metadata": {
    "colab": {
     "base_uri": "https://localhost:8080/",
     "height": 385
    },
    "id": "bl_vzlN5zNkn",
    "outputId": "8f9308c7-e24a-4233-93cc-efe2b99b7a2d"
   },
   "outputs": [
    {
     "data": {
      "text/html": [
       "\n",
       "<div id=\"altair-viz-16b45d2a9eb441dea5c2d8fd521b5715\"></div>\n",
       "<script type=\"text/javascript\">\n",
       "  (function(spec, embedOpt){\n",
       "    let outputDiv = document.currentScript.previousElementSibling;\n",
       "    if (outputDiv.id !== \"altair-viz-16b45d2a9eb441dea5c2d8fd521b5715\") {\n",
       "      outputDiv = document.getElementById(\"altair-viz-16b45d2a9eb441dea5c2d8fd521b5715\");\n",
       "    }\n",
       "    const paths = {\n",
       "      \"vega\": \"https://cdn.jsdelivr.net/npm//vega@5?noext\",\n",
       "      \"vega-lib\": \"https://cdn.jsdelivr.net/npm//vega-lib?noext\",\n",
       "      \"vega-lite\": \"https://cdn.jsdelivr.net/npm//vega-lite@4.8.1?noext\",\n",
       "      \"vega-embed\": \"https://cdn.jsdelivr.net/npm//vega-embed@6?noext\",\n",
       "    };\n",
       "\n",
       "    function loadScript(lib) {\n",
       "      return new Promise(function(resolve, reject) {\n",
       "        var s = document.createElement('script');\n",
       "        s.src = paths[lib];\n",
       "        s.async = true;\n",
       "        s.onload = () => resolve(paths[lib]);\n",
       "        s.onerror = () => reject(`Error loading script: ${paths[lib]}`);\n",
       "        document.getElementsByTagName(\"head\")[0].appendChild(s);\n",
       "      });\n",
       "    }\n",
       "\n",
       "    function showError(err) {\n",
       "      outputDiv.innerHTML = `<div class=\"error\" style=\"color:red;\">${err}</div>`;\n",
       "      throw err;\n",
       "    }\n",
       "\n",
       "    function displayChart(vegaEmbed) {\n",
       "      vegaEmbed(outputDiv, spec, embedOpt)\n",
       "        .catch(err => showError(`Javascript Error: ${err.message}<br>This usually means there's a typo in your chart specification. See the javascript console for the full traceback.`));\n",
       "    }\n",
       "\n",
       "    if(typeof define === \"function\" && define.amd) {\n",
       "      requirejs.config({paths});\n",
       "      require([\"vega-embed\"], displayChart, err => showError(`Error loading script: ${err.message}`));\n",
       "    } else if (typeof vegaEmbed === \"function\") {\n",
       "      displayChart(vegaEmbed);\n",
       "    } else {\n",
       "      loadScript(\"vega\")\n",
       "        .then(() => loadScript(\"vega-lite\"))\n",
       "        .then(() => loadScript(\"vega-embed\"))\n",
       "        .catch(showError)\n",
       "        .then(() => displayChart(vegaEmbed));\n",
       "    }\n",
       "  })({\"config\": {\"view\": {\"continuousWidth\": 400, \"continuousHeight\": 300}}, \"data\": {\"name\": \"data-eae90cd30d19b4e3984d21939666a3f3\"}, \"mark\": {\"type\": \"line\", \"point\": true}, \"encoding\": {\"tooltip\": [{\"type\": \"quantitative\", \"aggregate\": \"sum\", \"field\": \"count\", \"title\": \"Total Deaths\"}], \"x\": {\"type\": \"quantitative\", \"field\": \"year\"}, \"y\": {\"type\": \"quantitative\", \"aggregate\": \"sum\", \"field\": \"count\", \"title\": \"Total Deaths\"}}, \"selection\": {\"selector001\": {\"type\": \"interval\", \"bind\": \"scales\", \"encodings\": [\"x\"]}}, \"title\": \"Total deaths over the years\", \"$schema\": \"https://vega.github.io/schema/vega-lite/v4.8.1.json\", \"datasets\": {\"data-eae90cd30d19b4e3984d21939666a3f3\": [{\"month\": 0, \"year\": 1969, \"count\": 1687}, {\"month\": 1, \"year\": 1969, \"count\": 1508}, {\"month\": 2, \"year\": 1969, \"count\": 1507}, {\"month\": 3, \"year\": 1969, \"count\": 1385}, {\"month\": 4, \"year\": 1969, \"count\": 1632}, {\"month\": 5, \"year\": 1969, \"count\": 1511}, {\"month\": 6, \"year\": 1969, \"count\": 1559}, {\"month\": 7, \"year\": 1969, \"count\": 1630}, {\"month\": 8, \"year\": 1969, \"count\": 1579}, {\"month\": 9, \"year\": 1969, \"count\": 1653}, {\"month\": 10, \"year\": 1969, \"count\": 2152}, {\"month\": 11, \"year\": 1969, \"count\": 2148}, {\"month\": 0, \"year\": 1970, \"count\": 1752}, {\"month\": 1, \"year\": 1970, \"count\": 1765}, {\"month\": 2, \"year\": 1970, \"count\": 1717}, {\"month\": 3, \"year\": 1970, \"count\": 1558}, {\"month\": 4, \"year\": 1970, \"count\": 1575}, {\"month\": 5, \"year\": 1970, \"count\": 1520}, {\"month\": 6, \"year\": 1970, \"count\": 1805}, {\"month\": 7, \"year\": 1970, \"count\": 1800}, {\"month\": 8, \"year\": 1970, \"count\": 1719}, {\"month\": 9, \"year\": 1970, \"count\": 2008}, {\"month\": 10, \"year\": 1970, \"count\": 2242}, {\"month\": 11, \"year\": 1970, \"count\": 2478}, {\"month\": 0, \"year\": 1971, \"count\": 2030}, {\"month\": 1, \"year\": 1971, \"count\": 1655}, {\"month\": 2, \"year\": 1971, \"count\": 1693}, {\"month\": 3, \"year\": 1971, \"count\": 1623}, {\"month\": 4, \"year\": 1971, \"count\": 1805}, {\"month\": 5, \"year\": 1971, \"count\": 1746}, {\"month\": 6, \"year\": 1971, \"count\": 1795}, {\"month\": 7, \"year\": 1971, \"count\": 1926}, {\"month\": 8, \"year\": 1971, \"count\": 1619}, {\"month\": 9, \"year\": 1971, \"count\": 1992}, {\"month\": 10, \"year\": 1971, \"count\": 2233}, {\"month\": 11, \"year\": 1971, \"count\": 2192}, {\"month\": 0, \"year\": 1972, \"count\": 2080}, {\"month\": 1, \"year\": 1972, \"count\": 1768}, {\"month\": 2, \"year\": 1972, \"count\": 1835}, {\"month\": 3, \"year\": 1972, \"count\": 1569}, {\"month\": 4, \"year\": 1972, \"count\": 1976}, {\"month\": 5, \"year\": 1972, \"count\": 1853}, {\"month\": 6, \"year\": 1972, \"count\": 1965}, {\"month\": 7, \"year\": 1972, \"count\": 1689}, {\"month\": 8, \"year\": 1972, \"count\": 1778}, {\"month\": 9, \"year\": 1972, \"count\": 1976}, {\"month\": 10, \"year\": 1972, \"count\": 2397}, {\"month\": 11, \"year\": 1972, \"count\": 2654}, {\"month\": 0, \"year\": 1973, \"count\": 2097}, {\"month\": 1, \"year\": 1973, \"count\": 1963}, {\"month\": 2, \"year\": 1973, \"count\": 1677}, {\"month\": 3, \"year\": 1973, \"count\": 1941}, {\"month\": 4, \"year\": 1973, \"count\": 2003}, {\"month\": 5, \"year\": 1973, \"count\": 1813}, {\"month\": 6, \"year\": 1973, \"count\": 2012}, {\"month\": 7, \"year\": 1973, \"count\": 1912}, {\"month\": 8, \"year\": 1973, \"count\": 2084}, {\"month\": 9, \"year\": 1973, \"count\": 2080}, {\"month\": 10, \"year\": 1973, \"count\": 2118}, {\"month\": 11, \"year\": 1973, \"count\": 2150}, {\"month\": 0, \"year\": 1974, \"count\": 1608}, {\"month\": 1, \"year\": 1974, \"count\": 1503}, {\"month\": 2, \"year\": 1974, \"count\": 1548}, {\"month\": 3, \"year\": 1974, \"count\": 1382}, {\"month\": 4, \"year\": 1974, \"count\": 1731}, {\"month\": 5, \"year\": 1974, \"count\": 1798}, {\"month\": 6, \"year\": 1974, \"count\": 1779}, {\"month\": 7, \"year\": 1974, \"count\": 1887}, {\"month\": 8, \"year\": 1974, \"count\": 2004}, {\"month\": 9, \"year\": 1974, \"count\": 2077}, {\"month\": 10, \"year\": 1974, \"count\": 2092}, {\"month\": 11, \"year\": 1974, \"count\": 2051}, {\"month\": 0, \"year\": 1975, \"count\": 1577}, {\"month\": 1, \"year\": 1975, \"count\": 1356}, {\"month\": 2, \"year\": 1975, \"count\": 1652}, {\"month\": 3, \"year\": 1975, \"count\": 1382}, {\"month\": 4, \"year\": 1975, \"count\": 1519}, {\"month\": 5, \"year\": 1975, \"count\": 1421}, {\"month\": 6, \"year\": 1975, \"count\": 1442}, {\"month\": 7, \"year\": 1975, \"count\": 1543}, {\"month\": 8, \"year\": 1975, \"count\": 1656}, {\"month\": 9, \"year\": 1975, \"count\": 1561}, {\"month\": 10, \"year\": 1975, \"count\": 1905}, {\"month\": 11, \"year\": 1975, \"count\": 2199}, {\"month\": 0, \"year\": 1976, \"count\": 1473}, {\"month\": 1, \"year\": 1976, \"count\": 1655}, {\"month\": 2, \"year\": 1976, \"count\": 1407}, {\"month\": 3, \"year\": 1976, \"count\": 1395}, {\"month\": 4, \"year\": 1976, \"count\": 1530}, {\"month\": 5, \"year\": 1976, \"count\": 1309}, {\"month\": 6, \"year\": 1976, \"count\": 1526}, {\"month\": 7, \"year\": 1976, \"count\": 1327}, {\"month\": 8, \"year\": 1976, \"count\": 1627}, {\"month\": 9, \"year\": 1976, \"count\": 1748}, {\"month\": 10, \"year\": 1976, \"count\": 1958}, {\"month\": 11, \"year\": 1976, \"count\": 2274}, {\"month\": 0, \"year\": 1977, \"count\": 1648}, {\"month\": 1, \"year\": 1977, \"count\": 1401}, {\"month\": 2, \"year\": 1977, \"count\": 1411}, {\"month\": 3, \"year\": 1977, \"count\": 1403}, {\"month\": 4, \"year\": 1977, \"count\": 1394}, {\"month\": 5, \"year\": 1977, \"count\": 1520}, {\"month\": 6, \"year\": 1977, \"count\": 1528}, {\"month\": 7, \"year\": 1977, \"count\": 1643}, {\"month\": 8, \"year\": 1977, \"count\": 1515}, {\"month\": 9, \"year\": 1977, \"count\": 1685}, {\"month\": 10, \"year\": 1977, \"count\": 2000}, {\"month\": 11, \"year\": 1977, \"count\": 2215}, {\"month\": 0, \"year\": 1978, \"count\": 1956}, {\"month\": 1, \"year\": 1978, \"count\": 1462}, {\"month\": 2, \"year\": 1978, \"count\": 1563}, {\"month\": 3, \"year\": 1978, \"count\": 1459}, {\"month\": 4, \"year\": 1978, \"count\": 1446}, {\"month\": 5, \"year\": 1978, \"count\": 1622}, {\"month\": 6, \"year\": 1978, \"count\": 1657}, {\"month\": 7, \"year\": 1978, \"count\": 1638}, {\"month\": 8, \"year\": 1978, \"count\": 1643}, {\"month\": 9, \"year\": 1978, \"count\": 1683}, {\"month\": 10, \"year\": 1978, \"count\": 2050}, {\"month\": 11, \"year\": 1978, \"count\": 2262}, {\"month\": 0, \"year\": 1979, \"count\": 1813}, {\"month\": 1, \"year\": 1979, \"count\": 1445}, {\"month\": 2, \"year\": 1979, \"count\": 1762}, {\"month\": 3, \"year\": 1979, \"count\": 1461}, {\"month\": 4, \"year\": 1979, \"count\": 1556}, {\"month\": 5, \"year\": 1979, \"count\": 1431}, {\"month\": 6, \"year\": 1979, \"count\": 1427}, {\"month\": 7, \"year\": 1979, \"count\": 1554}, {\"month\": 8, \"year\": 1979, \"count\": 1645}, {\"month\": 9, \"year\": 1979, \"count\": 1653}, {\"month\": 10, \"year\": 1979, \"count\": 2016}, {\"month\": 11, \"year\": 1979, \"count\": 2207}, {\"month\": 0, \"year\": 1980, \"count\": 1665}, {\"month\": 1, \"year\": 1980, \"count\": 1361}, {\"month\": 2, \"year\": 1980, \"count\": 1506}, {\"month\": 3, \"year\": 1980, \"count\": 1360}, {\"month\": 4, \"year\": 1980, \"count\": 1453}, {\"month\": 5, \"year\": 1980, \"count\": 1522}, {\"month\": 6, \"year\": 1980, \"count\": 1460}, {\"month\": 7, \"year\": 1980, \"count\": 1552}, {\"month\": 8, \"year\": 1980, \"count\": 1548}, {\"month\": 9, \"year\": 1980, \"count\": 1827}, {\"month\": 10, \"year\": 1980, \"count\": 1737}, {\"month\": 11, \"year\": 1980, \"count\": 1941}, {\"month\": 0, \"year\": 1981, \"count\": 1474}, {\"month\": 1, \"year\": 1981, \"count\": 1458}, {\"month\": 2, \"year\": 1981, \"count\": 1542}, {\"month\": 3, \"year\": 1981, \"count\": 1404}, {\"month\": 4, \"year\": 1981, \"count\": 1522}, {\"month\": 5, \"year\": 1981, \"count\": 1385}, {\"month\": 6, \"year\": 1981, \"count\": 1641}, {\"month\": 7, \"year\": 1981, \"count\": 1510}, {\"month\": 8, \"year\": 1981, \"count\": 1681}, {\"month\": 9, \"year\": 1981, \"count\": 1938}, {\"month\": 10, \"year\": 1981, \"count\": 1868}, {\"month\": 11, \"year\": 1981, \"count\": 1726}, {\"month\": 0, \"year\": 1982, \"count\": 1456}, {\"month\": 1, \"year\": 1982, \"count\": 1445}, {\"month\": 2, \"year\": 1982, \"count\": 1456}, {\"month\": 3, \"year\": 1982, \"count\": 1365}, {\"month\": 4, \"year\": 1982, \"count\": 1487}, {\"month\": 5, \"year\": 1982, \"count\": 1558}, {\"month\": 6, \"year\": 1982, \"count\": 1488}, {\"month\": 7, \"year\": 1982, \"count\": 1684}, {\"month\": 8, \"year\": 1982, \"count\": 1594}, {\"month\": 9, \"year\": 1982, \"count\": 1850}, {\"month\": 10, \"year\": 1982, \"count\": 1998}, {\"month\": 11, \"year\": 1982, \"count\": 2079}, {\"month\": 0, \"year\": 1983, \"count\": 1494}, {\"month\": 1, \"year\": 1983, \"count\": 1057}, {\"month\": 2, \"year\": 1983, \"count\": 1218}, {\"month\": 3, \"year\": 1983, \"count\": 1168}, {\"month\": 4, \"year\": 1983, \"count\": 1236}, {\"month\": 5, \"year\": 1983, \"count\": 1076}, {\"month\": 6, \"year\": 1983, \"count\": 1174}, {\"month\": 7, \"year\": 1983, \"count\": 1139}, {\"month\": 8, \"year\": 1983, \"count\": 1427}, {\"month\": 9, \"year\": 1983, \"count\": 1487}, {\"month\": 10, \"year\": 1983, \"count\": 1483}, {\"month\": 11, \"year\": 1983, \"count\": 1513}, {\"month\": 0, \"year\": 1984, \"count\": 1357}, {\"month\": 1, \"year\": 1984, \"count\": 1165}, {\"month\": 2, \"year\": 1984, \"count\": 1282}, {\"month\": 3, \"year\": 1984, \"count\": 1110}, {\"month\": 4, \"year\": 1984, \"count\": 1297}, {\"month\": 5, \"year\": 1984, \"count\": 1185}, {\"month\": 6, \"year\": 1984, \"count\": 1222}, {\"month\": 7, \"year\": 1984, \"count\": 1284}, {\"month\": 8, \"year\": 1984, \"count\": 1444}, {\"month\": 9, \"year\": 1984, \"count\": 1575}, {\"month\": 10, \"year\": 1984, \"count\": 1737}, {\"month\": 11, \"year\": 1984, \"count\": 1763}]}}, {\"mode\": \"vega-lite\"});\n",
       "</script>"
      ],
      "text/plain": [
       "alt.Chart(...)"
      ]
     },
     "execution_count": 4,
     "metadata": {},
     "output_type": "execute_result"
    }
   ],
   "source": [
    "alt.Chart(fatalities_df,\n",
    "          title=\"Total deaths over the years\").mark_line(point=True).encode(\n",
    "    x='year',\n",
    "    y=alt.Y('sum(count)',title='Total Deaths'),\n",
    "    tooltip=([alt.Tooltip('sum(count)', title='Total Deaths')])\n",
    ").interactive(bind_y=False)"
   ]
  }
 ],
 "metadata": {
  "colab": {
   "collapsed_sections": [],
   "include_colab_link": true,
   "name": "altair.ipynb",
   "provenance": [],
   "toc_visible": true
  },
  "kernelspec": {
   "display_name": "Python 3",
   "language": "python",
   "name": "python3"
  },
  "language_info": {
   "codemirror_mode": {
    "name": "ipython",
    "version": 3
   },
   "file_extension": ".py",
   "mimetype": "text/x-python",
   "name": "python",
   "nbconvert_exporter": "python",
   "pygments_lexer": "ipython3",
   "version": "3.8.5"
  }
 },
 "nbformat": 4,
 "nbformat_minor": 1
}
