{
  "nbformat": 4,
  "nbformat_minor": 0,
  "metadata": {
    "colab": {
      "name": "altair.ipynb",
      "provenance": [],
      "collapsed_sections": [],
      "toc_visible": true,
      "include_colab_link": true
    },
    "kernelspec": {
      "display_name": "Python 3",
      "name": "python3"
    }
  },
  "cells": [
    {
      "cell_type": "markdown",
      "metadata": {
        "id": "view-in-github",
        "colab_type": "text"
      },
      "source": [
        "<a href=\"https://colab.research.google.com/github/tarujg/viz-altair/blob/main/altair.ipynb\" target=\"_parent\"><img src=\"https://colab.research.google.com/assets/colab-badge.svg\" alt=\"Open In Colab\"/></a>"
      ]
    },
    {
      "cell_type": "markdown",
      "metadata": {
        "id": "TrwD-AkYB4_2"
      },
      "source": [
        "# Interactive Scatter Plot in Altair\n",
        "\n",
        "Interactive scatter plot from data stored in a Pandas dataframe."
      ]
    },
    {
      "cell_type": "code",
      "metadata": {
        "id": "gZglQH8C7Oyn"
      },
      "source": [
        "import pandas as pd\n",
        "import altair as alt"
      ],
      "execution_count": 151,
      "outputs": []
    },
    {
      "cell_type": "code",
      "metadata": {
        "id": "ykdeOnrlAQcJ",
        "outputId": "1ef5a699-9edd-47b0-f35a-a8604ba1dede",
        "colab": {
          "base_uri": "https://localhost:8080/",
          "height": 204
        }
      },
      "source": [
        "college_scores_df = pd.read_csv('/content/sample_data/calvinCollegeSeniorScores.csv')\n",
        "college_scores_df.head()"
      ],
      "execution_count": 152,
      "outputs": [
        {
          "output_type": "execute_result",
          "data": {
            "text/html": [
              "<div>\n",
              "<style scoped>\n",
              "    .dataframe tbody tr th:only-of-type {\n",
              "        vertical-align: middle;\n",
              "    }\n",
              "\n",
              "    .dataframe tbody tr th {\n",
              "        vertical-align: top;\n",
              "    }\n",
              "\n",
              "    .dataframe thead th {\n",
              "        text-align: right;\n",
              "    }\n",
              "</style>\n",
              "<table border=\"1\" class=\"dataframe\">\n",
              "  <thead>\n",
              "    <tr style=\"text-align: right;\">\n",
              "      <th></th>\n",
              "      <th>SATM</th>\n",
              "      <th>SATV</th>\n",
              "      <th>ACT</th>\n",
              "      <th>GPA</th>\n",
              "    </tr>\n",
              "  </thead>\n",
              "  <tbody>\n",
              "    <tr>\n",
              "      <th>0</th>\n",
              "      <td>430</td>\n",
              "      <td>470</td>\n",
              "      <td>15</td>\n",
              "      <td>2.239</td>\n",
              "    </tr>\n",
              "    <tr>\n",
              "      <th>1</th>\n",
              "      <td>560</td>\n",
              "      <td>350</td>\n",
              "      <td>16</td>\n",
              "      <td>2.488</td>\n",
              "    </tr>\n",
              "    <tr>\n",
              "      <th>2</th>\n",
              "      <td>400</td>\n",
              "      <td>330</td>\n",
              "      <td>17</td>\n",
              "      <td>2.982</td>\n",
              "    </tr>\n",
              "    <tr>\n",
              "      <th>3</th>\n",
              "      <td>410</td>\n",
              "      <td>450</td>\n",
              "      <td>17</td>\n",
              "      <td>2.155</td>\n",
              "    </tr>\n",
              "    <tr>\n",
              "      <th>4</th>\n",
              "      <td>430</td>\n",
              "      <td>460</td>\n",
              "      <td>17</td>\n",
              "      <td>2.712</td>\n",
              "    </tr>\n",
              "  </tbody>\n",
              "</table>\n",
              "</div>"
            ],
            "text/plain": [
              "   SATM  SATV  ACT    GPA\n",
              "0   430   470   15  2.239\n",
              "1   560   350   16  2.488\n",
              "2   400   330   17  2.982\n",
              "3   410   450   17  2.155\n",
              "4   430   460   17  2.712"
            ]
          },
          "metadata": {
            "tags": []
          },
          "execution_count": 152
        }
      ]
    },
    {
      "cell_type": "markdown",
      "metadata": {
        "id": "K4pJ0J4zVQD8"
      },
      "source": [
        "1. Scatterplot of SATM vs SATV scores. \n",
        "  - x coordinate encodes SATM scores\n",
        "  - y coordinate encodes SATV scores\n",
        "  - radius of points represents ACT scores\n",
        "  - color represents GPA scores.\n",
        "  - Features\n",
        "    - Interactive plot\n",
        "    - Zoom and Pan interactions\n",
        "    - Tooltips showing SATM, SATV, ACT, and GPA\n",
        "    - Legends"
      ]
    },
    {
      "cell_type": "code",
      "metadata": {
        "id": "GLYytBN5BDG5",
        "outputId": "19e1c661-c8bc-4b7d-f198-5273c4940a66",
        "colab": {
          "base_uri": "https://localhost:8080/",
          "height": 412
        }
      },
      "source": [
        "alt.Chart(college_scores_df).mark_point(\n",
        "        filled=True,\n",
        "        opacity=0.3).encode(\n",
        "          x='SATM',\n",
        "          y='SATV',\n",
        "          color='GPA',\n",
        "          size='ACT',\n",
        "          tooltip=(['SATM', 'SATV', 'GPA', 'ACT'])).interactive()"
      ],
      "execution_count": 153,
      "outputs": [
        {
          "output_type": "execute_result",
          "data": {
            "text/plain": [
              "alt.Chart(...)"
            ],
            "text/html": [
              "\n",
              "<div id=\"altair-viz-2224a7faed094ee0859f8c1419e18bcd\"></div>\n",
              "<script type=\"text/javascript\">\n",
              "  (function(spec, embedOpt){\n",
              "    let outputDiv = document.currentScript.previousElementSibling;\n",
              "    if (outputDiv.id !== \"altair-viz-2224a7faed094ee0859f8c1419e18bcd\") {\n",
              "      outputDiv = document.getElementById(\"altair-viz-2224a7faed094ee0859f8c1419e18bcd\");\n",
              "    }\n",
              "    const paths = {\n",
              "      \"vega\": \"https://cdn.jsdelivr.net/npm//vega@5?noext\",\n",
              "      \"vega-lib\": \"https://cdn.jsdelivr.net/npm//vega-lib?noext\",\n",
              "      \"vega-lite\": \"https://cdn.jsdelivr.net/npm//vega-lite@4.8.1?noext\",\n",
              "      \"vega-embed\": \"https://cdn.jsdelivr.net/npm//vega-embed@6?noext\",\n",
              "    };\n",
              "\n",
              "    function loadScript(lib) {\n",
              "      return new Promise(function(resolve, reject) {\n",
              "        var s = document.createElement('script');\n",
              "        s.src = paths[lib];\n",
              "        s.async = true;\n",
              "        s.onload = () => resolve(paths[lib]);\n",
              "        s.onerror = () => reject(`Error loading script: ${paths[lib]}`);\n",
              "        document.getElementsByTagName(\"head\")[0].appendChild(s);\n",
              "      });\n",
              "    }\n",
              "\n",
              "    function showError(err) {\n",
              "      outputDiv.innerHTML = `<div class=\"error\" style=\"color:red;\">${err}</div>`;\n",
              "      throw err;\n",
              "    }\n",
              "\n",
              "    function displayChart(vegaEmbed) {\n",
              "      vegaEmbed(outputDiv, spec, embedOpt)\n",
              "        .catch(err => showError(`Javascript Error: ${err.message}<br>This usually means there's a typo in your chart specification. See the javascript console for the full traceback.`));\n",
              "    }\n",
              "\n",
              "    if(typeof define === \"function\" && define.amd) {\n",
              "      requirejs.config({paths});\n",
              "      require([\"vega-embed\"], displayChart, err => showError(`Error loading script: ${err.message}`));\n",
              "    } else if (typeof vegaEmbed === \"function\") {\n",
              "      displayChart(vegaEmbed);\n",
              "    } else {\n",
              "      loadScript(\"vega\")\n",
              "        .then(() => loadScript(\"vega-lite\"))\n",
              "        .then(() => loadScript(\"vega-embed\"))\n",
              "        .catch(showError)\n",
              "        .then(() => displayChart(vegaEmbed));\n",
              "    }\n",
              "  })({\"config\": {\"view\": {\"continuousWidth\": 400, \"continuousHeight\": 300}}, \"data\": {\"name\": \"data-58c4968aa40759a3816deddfec0f8bb6\"}, \"mark\": {\"type\": \"point\", \"filled\": true, \"opacity\": 0.3}, \"encoding\": {\"color\": {\"type\": \"quantitative\", \"field\": \"GPA\"}, \"size\": {\"type\": \"quantitative\", \"field\": \"ACT\"}, \"tooltip\": [{\"type\": \"quantitative\", \"field\": \"SATM\"}, {\"type\": \"quantitative\", \"field\": \"SATV\"}, {\"type\": \"quantitative\", \"field\": \"GPA\"}, {\"type\": \"quantitative\", \"field\": \"ACT\"}], \"x\": {\"type\": \"quantitative\", \"field\": \"SATM\"}, \"y\": {\"type\": \"quantitative\", \"field\": \"SATV\"}}, \"selection\": {\"selector053\": {\"type\": \"interval\", \"bind\": \"scales\", \"encodings\": [\"x\", \"y\"]}}, \"$schema\": \"https://vega.github.io/schema/vega-lite/v4.8.1.json\", \"datasets\": {\"data-58c4968aa40759a3816deddfec0f8bb6\": [{\"SATM\": 430, \"SATV\": 470, \"ACT\": 15, \"GPA\": 2.239}, {\"SATM\": 560, \"SATV\": 350, \"ACT\": 16, \"GPA\": 2.488}, {\"SATM\": 400, \"SATV\": 330, \"ACT\": 17, \"GPA\": 2.9819999999999998}, {\"SATM\": 410, \"SATV\": 450, \"ACT\": 17, \"GPA\": 2.155}, {\"SATM\": 430, \"SATV\": 460, \"ACT\": 17, \"GPA\": 2.7119999999999997}, {\"SATM\": 430, \"SATV\": 370, \"ACT\": 18, \"GPA\": 1.913}, {\"SATM\": 440, \"SATV\": 450, \"ACT\": 18, \"GPA\": 2.9530000000000003}, {\"SATM\": 550, \"SATV\": 410, \"ACT\": 18, \"GPA\": 2.6639999999999997}, {\"SATM\": 570, \"SATV\": 320, \"ACT\": 18, \"GPA\": 2.932}, {\"SATM\": 370, \"SATV\": 480, \"ACT\": 19, \"GPA\": 2.67}, {\"SATM\": 440, \"SATV\": 450, \"ACT\": 19, \"GPA\": 2.08}, {\"SATM\": 510, \"SATV\": 520, \"ACT\": 19, \"GPA\": 2.798}, {\"SATM\": 540, \"SATV\": 470, \"ACT\": 19, \"GPA\": 2.7960000000000003}, {\"SATM\": 490, \"SATV\": 540, \"ACT\": 20, \"GPA\": 3.365}, {\"SATM\": 490, \"SATV\": 460, \"ACT\": 20, \"GPA\": 2.9130000000000003}, {\"SATM\": 490, \"SATV\": 500, \"ACT\": 20, \"GPA\": 3.0439999999999996}, {\"SATM\": 510, \"SATV\": 540, \"ACT\": 20, \"GPA\": 2.608}, {\"SATM\": 530, \"SATV\": 280, \"ACT\": 20, \"GPA\": 1.7890000000000001}, {\"SATM\": 510, \"SATV\": 460, \"ACT\": 21, \"GPA\": 3.202}, {\"SATM\": 520, \"SATV\": 480, \"ACT\": 21, \"GPA\": 3.2439999999999998}, {\"SATM\": 540, \"SATV\": 430, \"ACT\": 21, \"GPA\": 3.4419999999999997}, {\"SATM\": 560, \"SATV\": 430, \"ACT\": 21, \"GPA\": 2.716}, {\"SATM\": 620, \"SATV\": 530, \"ACT\": 21, \"GPA\": 2.208}, {\"SATM\": 690, \"SATV\": 350, \"ACT\": 21, \"GPA\": 3.366}, {\"SATM\": 410, \"SATV\": 600, \"ACT\": 22, \"GPA\": 3.153}, {\"SATM\": 470, \"SATV\": 500, \"ACT\": 22, \"GPA\": 2.097}, {\"SATM\": 560, \"SATV\": 580, \"ACT\": 22, \"GPA\": 3.3160000000000003}, {\"SATM\": 580, \"SATV\": 490, \"ACT\": 22, \"GPA\": 2.5069999999999997}, {\"SATM\": 590, \"SATV\": 620, \"ACT\": 22, \"GPA\": 2.665}, {\"SATM\": 600, \"SATV\": 480, \"ACT\": 22, \"GPA\": 3.26}, {\"SATM\": 650, \"SATV\": 490, \"ACT\": 22, \"GPA\": 3.409}, {\"SATM\": 450, \"SATV\": 530, \"ACT\": 23, \"GPA\": 2.963}, {\"SATM\": 470, \"SATV\": 480, \"ACT\": 23, \"GPA\": 2.92}, {\"SATM\": 480, \"SATV\": 570, \"ACT\": 23, \"GPA\": 3.025}, {\"SATM\": 490, \"SATV\": 500, \"ACT\": 23, \"GPA\": 3.465}, {\"SATM\": 510, \"SATV\": 540, \"ACT\": 23, \"GPA\": 3.262}, {\"SATM\": 520, \"SATV\": 530, \"ACT\": 23, \"GPA\": 2.075}, {\"SATM\": 520, \"SATV\": 530, \"ACT\": 23, \"GPA\": 2.673}, {\"SATM\": 550, \"SATV\": 650, \"ACT\": 23, \"GPA\": 3.657}, {\"SATM\": 550, \"SATV\": 590, \"ACT\": 23, \"GPA\": 3.326}, {\"SATM\": 560, \"SATV\": 540, \"ACT\": 23, \"GPA\": 3.463}, {\"SATM\": 560, \"SATV\": 520, \"ACT\": 23, \"GPA\": 3.315}, {\"SATM\": 570, \"SATV\": 570, \"ACT\": 23, \"GPA\": 3.1830000000000003}, {\"SATM\": 580, \"SATV\": 550, \"ACT\": 23, \"GPA\": 3.667}, {\"SATM\": 610, \"SATV\": 560, \"ACT\": 23, \"GPA\": 3.452}, {\"SATM\": 610, \"SATV\": 630, \"ACT\": 23, \"GPA\": 2.528}, {\"SATM\": 410, \"SATV\": 470, \"ACT\": 24, \"GPA\": 2.496}, {\"SATM\": 500, \"SATV\": 630, \"ACT\": 24, \"GPA\": 2.978}, {\"SATM\": 520, \"SATV\": 630, \"ACT\": 24, \"GPA\": 3.19}, {\"SATM\": 520, \"SATV\": 560, \"ACT\": 24, \"GPA\": 3.3110000000000004}, {\"SATM\": 520, \"SATV\": 610, \"ACT\": 24, \"GPA\": 3.0389999999999997}, {\"SATM\": 540, \"SATV\": 560, \"ACT\": 24, \"GPA\": 3.487}, {\"SATM\": 540, \"SATV\": 560, \"ACT\": 24, \"GPA\": 1.704}, {\"SATM\": 550, \"SATV\": 590, \"ACT\": 24, \"GPA\": 3.659}, {\"SATM\": 580, \"SATV\": 520, \"ACT\": 24, \"GPA\": 3.4410000000000003}, {\"SATM\": 590, \"SATV\": 500, \"ACT\": 24, \"GPA\": 2.8289999999999997}, {\"SATM\": 620, \"SATV\": 600, \"ACT\": 24, \"GPA\": 3.6839999999999997}, {\"SATM\": 630, \"SATV\": 490, \"ACT\": 24, \"GPA\": 3.319}, {\"SATM\": 640, \"SATV\": 480, \"ACT\": 24, \"GPA\": 2.6069999999999998}, {\"SATM\": 420, \"SATV\": 440, \"ACT\": 25, \"GPA\": 2.031}, {\"SATM\": 480, \"SATV\": 520, \"ACT\": 25, \"GPA\": 3.5639999999999996}, {\"SATM\": 490, \"SATV\": 560, \"ACT\": 25, \"GPA\": 3.3710000000000004}, {\"SATM\": 490, \"SATV\": 640, \"ACT\": 25, \"GPA\": 3.6719999999999997}, {\"SATM\": 510, \"SATV\": 520, \"ACT\": 25, \"GPA\": 3.698}, {\"SATM\": 580, \"SATV\": 620, \"ACT\": 25, \"GPA\": 3.3989999999999996}, {\"SATM\": 600, \"SATV\": 670, \"ACT\": 25, \"GPA\": 3.594}, {\"SATM\": 620, \"SATV\": 560, \"ACT\": 25, \"GPA\": 3.1460000000000004}, {\"SATM\": 710, \"SATV\": 600, \"ACT\": 25, \"GPA\": 3.0610000000000004}, {\"SATM\": 720, \"SATV\": 590, \"ACT\": 25, \"GPA\": 3.3169999999999997}, {\"SATM\": 730, \"SATV\": 600, \"ACT\": 25, \"GPA\": 3.613}, {\"SATM\": 780, \"SATV\": 560, \"ACT\": 25, \"GPA\": 2.852}, {\"SATM\": 480, \"SATV\": 530, \"ACT\": 26, \"GPA\": 2.7319999999999998}, {\"SATM\": 490, \"SATV\": 560, \"ACT\": 26, \"GPA\": 3.522}, {\"SATM\": 520, \"SATV\": 600, \"ACT\": 26, \"GPA\": 3.1}, {\"SATM\": 520, \"SATV\": 610, \"ACT\": 26, \"GPA\": 3.471}, {\"SATM\": 520, \"SATV\": 640, \"ACT\": 26, \"GPA\": 3.6310000000000002}, {\"SATM\": 530, \"SATV\": 520, \"ACT\": 26, \"GPA\": 2.199}, {\"SATM\": 530, \"SATV\": 510, \"ACT\": 26, \"GPA\": 3.803}, {\"SATM\": 550, \"SATV\": 700, \"ACT\": 26, \"GPA\": 3.48}, {\"SATM\": 560, \"SATV\": 610, \"ACT\": 26, \"GPA\": 2.989}, {\"SATM\": 580, \"SATV\": 550, \"ACT\": 26, \"GPA\": 3.6210000000000004}, {\"SATM\": 580, \"SATV\": 550, \"ACT\": 26, \"GPA\": 2.784}, {\"SATM\": 580, \"SATV\": 580, \"ACT\": 26, \"GPA\": 3.485}, {\"SATM\": 580, \"SATV\": 660, \"ACT\": 26, \"GPA\": 3.016}, {\"SATM\": 580, \"SATV\": 540, \"ACT\": 26, \"GPA\": 3.695}, {\"SATM\": 590, \"SATV\": 580, \"ACT\": 26, \"GPA\": 2.496}, {\"SATM\": 590, \"SATV\": 570, \"ACT\": 26, \"GPA\": 3.638}, {\"SATM\": 620, \"SATV\": 570, \"ACT\": 26, \"GPA\": 3.03}, {\"SATM\": 620, \"SATV\": 560, \"ACT\": 26, \"GPA\": 3.6860000000000004}, {\"SATM\": 630, \"SATV\": 700, \"ACT\": 26, \"GPA\": 3.145}, {\"SATM\": 630, \"SATV\": 610, \"ACT\": 26, \"GPA\": 3.222}, {\"SATM\": 660, \"SATV\": 560, \"ACT\": 26, \"GPA\": 3.7510000000000003}, {\"SATM\": 660, \"SATV\": 570, \"ACT\": 26, \"GPA\": 3.128}, {\"SATM\": 690, \"SATV\": 600, \"ACT\": 26, \"GPA\": 2.513}, {\"SATM\": 470, \"SATV\": 710, \"ACT\": 27, \"GPA\": 3.625}, {\"SATM\": 530, \"SATV\": 640, \"ACT\": 27, \"GPA\": 3.804}, {\"SATM\": 540, \"SATV\": 630, \"ACT\": 27, \"GPA\": 3.105}, {\"SATM\": 540, \"SATV\": 610, \"ACT\": 27, \"GPA\": 2.275}, {\"SATM\": 550, \"SATV\": 630, \"ACT\": 27, \"GPA\": 3.4789999999999996}, {\"SATM\": 560, \"SATV\": 520, \"ACT\": 27, \"GPA\": 3.222}, {\"SATM\": 570, \"SATV\": 610, \"ACT\": 27, \"GPA\": 3.41}, {\"SATM\": 580, \"SATV\": 560, \"ACT\": 27, \"GPA\": 3.77}, {\"SATM\": 600, \"SATV\": 540, \"ACT\": 27, \"GPA\": 3.6460000000000004}, {\"SATM\": 610, \"SATV\": 540, \"ACT\": 27, \"GPA\": 3.735}, {\"SATM\": 610, \"SATV\": 570, \"ACT\": 27, \"GPA\": 3.6180000000000003}, {\"SATM\": 610, \"SATV\": 670, \"ACT\": 27, \"GPA\": 3.167}, {\"SATM\": 610, \"SATV\": 630, \"ACT\": 27, \"GPA\": 3.015}, {\"SATM\": 620, \"SATV\": 570, \"ACT\": 27, \"GPA\": 3.6180000000000003}, {\"SATM\": 620, \"SATV\": 570, \"ACT\": 27, \"GPA\": 3.2539999999999996}, {\"SATM\": 620, \"SATV\": 600, \"ACT\": 27, \"GPA\": 3.407}, {\"SATM\": 630, \"SATV\": 490, \"ACT\": 27, \"GPA\": 3.327}, {\"SATM\": 650, \"SATV\": 600, \"ACT\": 27, \"GPA\": 3.2039999999999997}, {\"SATM\": 650, \"SATV\": 630, \"ACT\": 27, \"GPA\": 3.324}, {\"SATM\": 650, \"SATV\": 570, \"ACT\": 27, \"GPA\": 3.1260000000000003}, {\"SATM\": 670, \"SATV\": 540, \"ACT\": 27, \"GPA\": 3.58}, {\"SATM\": 670, \"SATV\": 570, \"ACT\": 27, \"GPA\": 3.83}, {\"SATM\": 670, \"SATV\": 620, \"ACT\": 27, \"GPA\": 3.475}, {\"SATM\": 670, \"SATV\": 460, \"ACT\": 27, \"GPA\": 2.048}, {\"SATM\": 670, \"SATV\": 700, \"ACT\": 27, \"GPA\": 3.83}, {\"SATM\": 690, \"SATV\": 580, \"ACT\": 27, \"GPA\": 3.284}, {\"SATM\": 720, \"SATV\": 650, \"ACT\": 27, \"GPA\": 3.9339999999999997}, {\"SATM\": 720, \"SATV\": 680, \"ACT\": 27, \"GPA\": 3.78}, {\"SATM\": 520, \"SATV\": 600, \"ACT\": 28, \"GPA\": 3.4130000000000003}, {\"SATM\": 530, \"SATV\": 560, \"ACT\": 28, \"GPA\": 3.502}, {\"SATM\": 550, \"SATV\": 580, \"ACT\": 28, \"GPA\": 3.605}, {\"SATM\": 550, \"SATV\": 660, \"ACT\": 28, \"GPA\": 3.563}, {\"SATM\": 570, \"SATV\": 590, \"ACT\": 28, \"GPA\": 3.127}, {\"SATM\": 580, \"SATV\": 650, \"ACT\": 28, \"GPA\": 3.765}, {\"SATM\": 590, \"SATV\": 730, \"ACT\": 28, \"GPA\": 3.792}, {\"SATM\": 590, \"SATV\": 720, \"ACT\": 28, \"GPA\": 3.847}, {\"SATM\": 600, \"SATV\": 710, \"ACT\": 28, \"GPA\": 2.4530000000000003}, {\"SATM\": 600, \"SATV\": 590, \"ACT\": 28, \"GPA\": 3.287}, {\"SATM\": 600, \"SATV\": 660, \"ACT\": 28, \"GPA\": 2.452}, {\"SATM\": 600, \"SATV\": 580, \"ACT\": 28, \"GPA\": 3.4410000000000003}, {\"SATM\": 600, \"SATV\": 710, \"ACT\": 28, \"GPA\": 3.821}, {\"SATM\": 610, \"SATV\": 530, \"ACT\": 28, \"GPA\": 2.9760000000000004}, {\"SATM\": 610, \"SATV\": 590, \"ACT\": 28, \"GPA\": 3.75}, {\"SATM\": 610, \"SATV\": 650, \"ACT\": 28, \"GPA\": 2.972}, {\"SATM\": 610, \"SATV\": 630, \"ACT\": 28, \"GPA\": 3.647}, {\"SATM\": 630, \"SATV\": 620, \"ACT\": 28, \"GPA\": 3.424}, {\"SATM\": 630, \"SATV\": 570, \"ACT\": 28, \"GPA\": 3.457}, {\"SATM\": 660, \"SATV\": 630, \"ACT\": 28, \"GPA\": 3.66}, {\"SATM\": 710, \"SATV\": 670, \"ACT\": 28, \"GPA\": 3.877}, {\"SATM\": 730, \"SATV\": 590, \"ACT\": 28, \"GPA\": 3.534}, {\"SATM\": 540, \"SATV\": 630, \"ACT\": 29, \"GPA\": 3.594}, {\"SATM\": 570, \"SATV\": 570, \"ACT\": 29, \"GPA\": 3.5}, {\"SATM\": 580, \"SATV\": 570, \"ACT\": 29, \"GPA\": 3.575}, {\"SATM\": 580, \"SATV\": 620, \"ACT\": 29, \"GPA\": 3.03}, {\"SATM\": 600, \"SATV\": 650, \"ACT\": 29, \"GPA\": 3.301}, {\"SATM\": 610, \"SATV\": 680, \"ACT\": 29, \"GPA\": 2.94}, {\"SATM\": 610, \"SATV\": 650, \"ACT\": 29, \"GPA\": 2.738}, {\"SATM\": 610, \"SATV\": 660, \"ACT\": 29, \"GPA\": 2.943}, {\"SATM\": 610, \"SATV\": 610, \"ACT\": 29, \"GPA\": 2.121}, {\"SATM\": 620, \"SATV\": 630, \"ACT\": 29, \"GPA\": 3.665}, {\"SATM\": 640, \"SATV\": 660, \"ACT\": 29, \"GPA\": 2.864}, {\"SATM\": 640, \"SATV\": 620, \"ACT\": 29, \"GPA\": 3.7119999999999997}, {\"SATM\": 640, \"SATV\": 690, \"ACT\": 29, \"GPA\": 3.319}, {\"SATM\": 640, \"SATV\": 670, \"ACT\": 29, \"GPA\": 3.929}, {\"SATM\": 640, \"SATV\": 640, \"ACT\": 29, \"GPA\": 3.838}, {\"SATM\": 650, \"SATV\": 630, \"ACT\": 29, \"GPA\": 3.6489999999999996}, {\"SATM\": 650, \"SATV\": 490, \"ACT\": 29, \"GPA\": 3.528}, {\"SATM\": 650, \"SATV\": 620, \"ACT\": 29, \"GPA\": 2.8280000000000003}, {\"SATM\": 660, \"SATV\": 640, \"ACT\": 29, \"GPA\": 3.464}, {\"SATM\": 680, \"SATV\": 680, \"ACT\": 29, \"GPA\": 3.5380000000000003}, {\"SATM\": 680, \"SATV\": 630, \"ACT\": 29, \"GPA\": 3.9189999999999996}, {\"SATM\": 690, \"SATV\": 620, \"ACT\": 29, \"GPA\": 2.827}, {\"SATM\": 700, \"SATV\": 670, \"ACT\": 29, \"GPA\": 3.677}, {\"SATM\": 700, \"SATV\": 610, \"ACT\": 29, \"GPA\": 2.645}, {\"SATM\": 710, \"SATV\": 640, \"ACT\": 29, \"GPA\": 3.898}, {\"SATM\": 710, \"SATV\": 590, \"ACT\": 29, \"GPA\": 3.8539999999999996}, {\"SATM\": 770, \"SATV\": 610, \"ACT\": 29, \"GPA\": 2.01}, {\"SATM\": 550, \"SATV\": 650, \"ACT\": 30, \"GPA\": 3.134}, {\"SATM\": 560, \"SATV\": 670, \"ACT\": 30, \"GPA\": 3.947}, {\"SATM\": 570, \"SATV\": 720, \"ACT\": 30, \"GPA\": 3.662}, {\"SATM\": 570, \"SATV\": 670, \"ACT\": 30, \"GPA\": 2.983}, {\"SATM\": 590, \"SATV\": 640, \"ACT\": 30, \"GPA\": 3.5439999999999996}, {\"SATM\": 620, \"SATV\": 600, \"ACT\": 30, \"GPA\": 2.5860000000000003}, {\"SATM\": 640, \"SATV\": 600, \"ACT\": 30, \"GPA\": 3.707}, {\"SATM\": 640, \"SATV\": 580, \"ACT\": 30, \"GPA\": 3.7680000000000002}, {\"SATM\": 660, \"SATV\": 710, \"ACT\": 30, \"GPA\": 3.5269999999999997}, {\"SATM\": 660, \"SATV\": 680, \"ACT\": 30, \"GPA\": 3.344}, {\"SATM\": 670, \"SATV\": 630, \"ACT\": 30, \"GPA\": 3.407}, {\"SATM\": 680, \"SATV\": 690, \"ACT\": 30, \"GPA\": 3.406}, {\"SATM\": 680, \"SATV\": 670, \"ACT\": 30, \"GPA\": 2.925}, {\"SATM\": 690, \"SATV\": 630, \"ACT\": 30, \"GPA\": 3.877}, {\"SATM\": 700, \"SATV\": 670, \"ACT\": 30, \"GPA\": 3.992}, {\"SATM\": 700, \"SATV\": 760, \"ACT\": 30, \"GPA\": 3.975}, {\"SATM\": 720, \"SATV\": 700, \"ACT\": 30, \"GPA\": 3.987}, {\"SATM\": 730, \"SATV\": 610, \"ACT\": 30, \"GPA\": 3.8}, {\"SATM\": 730, \"SATV\": 730, \"ACT\": 30, \"GPA\": 3.989}, {\"SATM\": 750, \"SATV\": 650, \"ACT\": 30, \"GPA\": 3.33}, {\"SATM\": 750, \"SATV\": 650, \"ACT\": 30, \"GPA\": 3.469}, {\"SATM\": 590, \"SATV\": 660, \"ACT\": 31, \"GPA\": 3.236}, {\"SATM\": 600, \"SATV\": 670, \"ACT\": 31, \"GPA\": 3.812}, {\"SATM\": 610, \"SATV\": 650, \"ACT\": 31, \"GPA\": 3.593}, {\"SATM\": 640, \"SATV\": 710, \"ACT\": 31, \"GPA\": 3.745}, {\"SATM\": 640, \"SATV\": 700, \"ACT\": 31, \"GPA\": 3.178}, {\"SATM\": 640, \"SATV\": 720, \"ACT\": 31, \"GPA\": 3.76}, {\"SATM\": 660, \"SATV\": 780, \"ACT\": 31, \"GPA\": 3.737}, {\"SATM\": 660, \"SATV\": 710, \"ACT\": 31, \"GPA\": 3.61}, {\"SATM\": 660, \"SATV\": 630, \"ACT\": 31, \"GPA\": 3.6180000000000003}, {\"SATM\": 660, \"SATV\": 610, \"ACT\": 31, \"GPA\": 3.7939999999999996}, {\"SATM\": 660, \"SATV\": 560, \"ACT\": 31, \"GPA\": 2.8569999999999998}, {\"SATM\": 680, \"SATV\": 700, \"ACT\": 31, \"GPA\": 3.483}, {\"SATM\": 690, \"SATV\": 750, \"ACT\": 31, \"GPA\": 3.8110000000000004}, {\"SATM\": 690, \"SATV\": 680, \"ACT\": 31, \"GPA\": 3.7910000000000004}, {\"SATM\": 690, \"SATV\": 660, \"ACT\": 31, \"GPA\": 3.813}, {\"SATM\": 690, \"SATV\": 630, \"ACT\": 31, \"GPA\": 3.9539999999999997}, {\"SATM\": 700, \"SATV\": 630, \"ACT\": 31, \"GPA\": 3.62}, {\"SATM\": 700, \"SATV\": 760, \"ACT\": 31, \"GPA\": 3.4930000000000003}, {\"SATM\": 700, \"SATV\": 640, \"ACT\": 31, \"GPA\": 3.912}, {\"SATM\": 700, \"SATV\": 680, \"ACT\": 31, \"GPA\": 3.485}, {\"SATM\": 710, \"SATV\": 700, \"ACT\": 31, \"GPA\": 3.763}, {\"SATM\": 720, \"SATV\": 630, \"ACT\": 31, \"GPA\": 2.707}, {\"SATM\": 730, \"SATV\": 750, \"ACT\": 31, \"GPA\": 3.947}, {\"SATM\": 760, \"SATV\": 590, \"ACT\": 31, \"GPA\": 3.887}, {\"SATM\": 770, \"SATV\": 650, \"ACT\": 31, \"GPA\": 3.988}, {\"SATM\": 620, \"SATV\": 760, \"ACT\": 32, \"GPA\": 3.593}, {\"SATM\": 630, \"SATV\": 650, \"ACT\": 32, \"GPA\": 3.5980000000000003}, {\"SATM\": 650, \"SATV\": 720, \"ACT\": 32, \"GPA\": 3.9410000000000003}, {\"SATM\": 660, \"SATV\": 740, \"ACT\": 32, \"GPA\": 2.456}, {\"SATM\": 660, \"SATV\": 730, \"ACT\": 32, \"GPA\": 3.909}, {\"SATM\": 660, \"SATV\": 690, \"ACT\": 32, \"GPA\": 3.909}, {\"SATM\": 670, \"SATV\": 650, \"ACT\": 32, \"GPA\": 3.2880000000000003}, {\"SATM\": 670, \"SATV\": 620, \"ACT\": 32, \"GPA\": 3.91}, {\"SATM\": 690, \"SATV\": 700, \"ACT\": 32, \"GPA\": 3.78}, {\"SATM\": 690, \"SATV\": 720, \"ACT\": 32, \"GPA\": 3.8510000000000004}, {\"SATM\": 690, \"SATV\": 680, \"ACT\": 32, \"GPA\": 3.764}, {\"SATM\": 690, \"SATV\": 750, \"ACT\": 32, \"GPA\": 3.823}, {\"SATM\": 690, \"SATV\": 680, \"ACT\": 32, \"GPA\": 3.676}, {\"SATM\": 700, \"SATV\": 640, \"ACT\": 32, \"GPA\": 2.721}, {\"SATM\": 700, \"SATV\": 700, \"ACT\": 32, \"GPA\": 3.9419999999999997}, {\"SATM\": 710, \"SATV\": 680, \"ACT\": 32, \"GPA\": 4.0}, {\"SATM\": 710, \"SATV\": 750, \"ACT\": 32, \"GPA\": 3.943}, {\"SATM\": 710, \"SATV\": 740, \"ACT\": 32, \"GPA\": 2.708}, {\"SATM\": 730, \"SATV\": 580, \"ACT\": 32, \"GPA\": 3.4330000000000003}, {\"SATM\": 760, \"SATV\": 720, \"ACT\": 32, \"GPA\": 3.784}, {\"SATM\": 770, \"SATV\": 670, \"ACT\": 32, \"GPA\": 3.303}, {\"SATM\": 780, \"SATV\": 800, \"ACT\": 32, \"GPA\": 3.929}, {\"SATM\": 800, \"SATV\": 750, \"ACT\": 32, \"GPA\": 3.653}, {\"SATM\": 620, \"SATV\": 730, \"ACT\": 33, \"GPA\": 3.9160000000000004}, {\"SATM\": 650, \"SATV\": 690, \"ACT\": 33, \"GPA\": 3.4010000000000002}, {\"SATM\": 680, \"SATV\": 720, \"ACT\": 33, \"GPA\": 3.824}, {\"SATM\": 690, \"SATV\": 590, \"ACT\": 33, \"GPA\": 3.535}, {\"SATM\": 700, \"SATV\": 580, \"ACT\": 33, \"GPA\": 3.898}, {\"SATM\": 710, \"SATV\": 730, \"ACT\": 33, \"GPA\": 3.6430000000000002}, {\"SATM\": 710, \"SATV\": 730, \"ACT\": 33, \"GPA\": 3.98}, {\"SATM\": 710, \"SATV\": 720, \"ACT\": 33, \"GPA\": 3.642}, {\"SATM\": 710, \"SATV\": 630, \"ACT\": 33, \"GPA\": 3.8739999999999997}, {\"SATM\": 730, \"SATV\": 690, \"ACT\": 33, \"GPA\": 3.9360000000000004}, {\"SATM\": 790, \"SATV\": 730, \"ACT\": 33, \"GPA\": 3.154}, {\"SATM\": 800, \"SATV\": 630, \"ACT\": 33, \"GPA\": 3.925}, {\"SATM\": 800, \"SATV\": 720, \"ACT\": 33, \"GPA\": 3.888}, {\"SATM\": 640, \"SATV\": 730, \"ACT\": 34, \"GPA\": 3.885}, {\"SATM\": 640, \"SATV\": 670, \"ACT\": 34, \"GPA\": 3.536}, {\"SATM\": 670, \"SATV\": 650, \"ACT\": 34, \"GPA\": 3.872}, {\"SATM\": 690, \"SATV\": 800, \"ACT\": 34, \"GPA\": 3.8939999999999997}, {\"SATM\": 700, \"SATV\": 800, \"ACT\": 34, \"GPA\": 2.5340000000000003}, {\"SATM\": 720, \"SATV\": 720, \"ACT\": 34, \"GPA\": 3.37}, {\"SATM\": 740, \"SATV\": 740, \"ACT\": 34, \"GPA\": 3.833}, {\"SATM\": 750, \"SATV\": 800, \"ACT\": 34, \"GPA\": 3.944}, {\"SATM\": 760, \"SATV\": 750, \"ACT\": 34, \"GPA\": 3.7569999999999997}, {\"SATM\": 770, \"SATV\": 730, \"ACT\": 34, \"GPA\": 3.325}, {\"SATM\": 790, \"SATV\": 710, \"ACT\": 34, \"GPA\": 3.928}, {\"SATM\": 790, \"SATV\": 760, \"ACT\": 34, \"GPA\": 3.889}, {\"SATM\": 790, \"SATV\": 660, \"ACT\": 34, \"GPA\": 3.821}, {\"SATM\": 800, \"SATV\": 680, \"ACT\": 34, \"GPA\": 3.765}, {\"SATM\": 700, \"SATV\": 680, \"ACT\": 35, \"GPA\": 3.911}, {\"SATM\": 720, \"SATV\": 770, \"ACT\": 35, \"GPA\": 3.9810000000000003}, {\"SATM\": 750, \"SATV\": 730, \"ACT\": 35, \"GPA\": 3.8819999999999997}, {\"SATM\": 790, \"SATV\": 780, \"ACT\": 35, \"GPA\": 3.887}]}}, {\"mode\": \"vega-lite\"});\n",
              "</script>"
            ]
          },
          "metadata": {
            "tags": []
          },
          "execution_count": 153
        }
      ]
    },
    {
      "cell_type": "markdown",
      "metadata": {
        "id": "_3Oh893r9fOi"
      },
      "source": [
        "\n",
        "2. Visualize dataset as scatter plot with linked brushing\n",
        "  - Two scatterplots\n",
        "    - SATM and SATV\n",
        "    - ACT and GPA\n",
        "  - Linked views with brushing techniques"
      ]
    },
    {
      "cell_type": "code",
      "metadata": {
        "id": "7Gd7RkcdVael",
        "outputId": "598d724f-eff3-4b69-e8fc-2fc93f032780",
        "colab": {
          "base_uri": "https://localhost:8080/",
          "height": 387
        }
      },
      "source": [
        "brush = alt.selection_interval()\n",
        "color_condition = alt.condition(brush, 'GPA', alt.value('lightgray'))\n",
        "\n",
        "plot_1 = alt.Chart(college_scores_df, title=\"SATM vs SATV\").mark_point(filled=True).encode(\n",
        "  x='SATM',\n",
        "  y='SATV',\n",
        "  color=color_condition,\n",
        "  tooltip=(['SATM', 'SATV'])\n",
        ").add_selection(brush)\n",
        "\n",
        "plot_2 = alt.Chart(college_scores_df, title=\"ACT vs GPA\").mark_point(filled=True).encode(\n",
        "  x='ACT',\n",
        "  y='GPA',\n",
        "  color=color_condition,\n",
        "  tooltip=(['ACT', 'GPA'])\n",
        ").add_selection(brush)\n",
        "\n",
        "plot_1 | plot_2"
      ],
      "execution_count": 154,
      "outputs": [
        {
          "output_type": "execute_result",
          "data": {
            "text/plain": [
              "alt.HConcatChart(...)"
            ],
            "text/html": [
              "\n",
              "<div id=\"altair-viz-bc3aea1f94fe4d74bb7c18509fe09c73\"></div>\n",
              "<script type=\"text/javascript\">\n",
              "  (function(spec, embedOpt){\n",
              "    let outputDiv = document.currentScript.previousElementSibling;\n",
              "    if (outputDiv.id !== \"altair-viz-bc3aea1f94fe4d74bb7c18509fe09c73\") {\n",
              "      outputDiv = document.getElementById(\"altair-viz-bc3aea1f94fe4d74bb7c18509fe09c73\");\n",
              "    }\n",
              "    const paths = {\n",
              "      \"vega\": \"https://cdn.jsdelivr.net/npm//vega@5?noext\",\n",
              "      \"vega-lib\": \"https://cdn.jsdelivr.net/npm//vega-lib?noext\",\n",
              "      \"vega-lite\": \"https://cdn.jsdelivr.net/npm//vega-lite@4.8.1?noext\",\n",
              "      \"vega-embed\": \"https://cdn.jsdelivr.net/npm//vega-embed@6?noext\",\n",
              "    };\n",
              "\n",
              "    function loadScript(lib) {\n",
              "      return new Promise(function(resolve, reject) {\n",
              "        var s = document.createElement('script');\n",
              "        s.src = paths[lib];\n",
              "        s.async = true;\n",
              "        s.onload = () => resolve(paths[lib]);\n",
              "        s.onerror = () => reject(`Error loading script: ${paths[lib]}`);\n",
              "        document.getElementsByTagName(\"head\")[0].appendChild(s);\n",
              "      });\n",
              "    }\n",
              "\n",
              "    function showError(err) {\n",
              "      outputDiv.innerHTML = `<div class=\"error\" style=\"color:red;\">${err}</div>`;\n",
              "      throw err;\n",
              "    }\n",
              "\n",
              "    function displayChart(vegaEmbed) {\n",
              "      vegaEmbed(outputDiv, spec, embedOpt)\n",
              "        .catch(err => showError(`Javascript Error: ${err.message}<br>This usually means there's a typo in your chart specification. See the javascript console for the full traceback.`));\n",
              "    }\n",
              "\n",
              "    if(typeof define === \"function\" && define.amd) {\n",
              "      requirejs.config({paths});\n",
              "      require([\"vega-embed\"], displayChart, err => showError(`Error loading script: ${err.message}`));\n",
              "    } else if (typeof vegaEmbed === \"function\") {\n",
              "      displayChart(vegaEmbed);\n",
              "    } else {\n",
              "      loadScript(\"vega\")\n",
              "        .then(() => loadScript(\"vega-lite\"))\n",
              "        .then(() => loadScript(\"vega-embed\"))\n",
              "        .catch(showError)\n",
              "        .then(() => displayChart(vegaEmbed));\n",
              "    }\n",
              "  })({\"config\": {\"view\": {\"continuousWidth\": 400, \"continuousHeight\": 300}}, \"hconcat\": [{\"mark\": {\"type\": \"point\", \"filled\": true}, \"encoding\": {\"color\": {\"condition\": {\"type\": \"quantitative\", \"field\": \"GPA\", \"selection\": \"selector054\"}, \"value\": \"lightgray\"}, \"tooltip\": [{\"type\": \"quantitative\", \"field\": \"SATM\"}, {\"type\": \"quantitative\", \"field\": \"SATV\"}], \"x\": {\"type\": \"quantitative\", \"field\": \"SATM\"}, \"y\": {\"type\": \"quantitative\", \"field\": \"SATV\"}}, \"selection\": {\"selector054\": {\"type\": \"interval\"}}, \"title\": \"SATM vs SATV\"}, {\"mark\": {\"type\": \"point\", \"filled\": true}, \"encoding\": {\"color\": {\"condition\": {\"type\": \"quantitative\", \"field\": \"GPA\", \"selection\": \"selector054\"}, \"value\": \"lightgray\"}, \"tooltip\": [{\"type\": \"quantitative\", \"field\": \"ACT\"}, {\"type\": \"quantitative\", \"field\": \"GPA\"}], \"x\": {\"type\": \"quantitative\", \"field\": \"ACT\"}, \"y\": {\"type\": \"quantitative\", \"field\": \"GPA\"}}, \"selection\": {\"selector054\": {\"type\": \"interval\"}}, \"title\": \"ACT vs GPA\"}], \"data\": {\"name\": \"data-58c4968aa40759a3816deddfec0f8bb6\"}, \"$schema\": \"https://vega.github.io/schema/vega-lite/v4.8.1.json\", \"datasets\": {\"data-58c4968aa40759a3816deddfec0f8bb6\": [{\"SATM\": 430, \"SATV\": 470, \"ACT\": 15, \"GPA\": 2.239}, {\"SATM\": 560, \"SATV\": 350, \"ACT\": 16, \"GPA\": 2.488}, {\"SATM\": 400, \"SATV\": 330, \"ACT\": 17, \"GPA\": 2.9819999999999998}, {\"SATM\": 410, \"SATV\": 450, \"ACT\": 17, \"GPA\": 2.155}, {\"SATM\": 430, \"SATV\": 460, \"ACT\": 17, \"GPA\": 2.7119999999999997}, {\"SATM\": 430, \"SATV\": 370, \"ACT\": 18, \"GPA\": 1.913}, {\"SATM\": 440, \"SATV\": 450, \"ACT\": 18, \"GPA\": 2.9530000000000003}, {\"SATM\": 550, \"SATV\": 410, \"ACT\": 18, \"GPA\": 2.6639999999999997}, {\"SATM\": 570, \"SATV\": 320, \"ACT\": 18, \"GPA\": 2.932}, {\"SATM\": 370, \"SATV\": 480, \"ACT\": 19, \"GPA\": 2.67}, {\"SATM\": 440, \"SATV\": 450, \"ACT\": 19, \"GPA\": 2.08}, {\"SATM\": 510, \"SATV\": 520, \"ACT\": 19, \"GPA\": 2.798}, {\"SATM\": 540, \"SATV\": 470, \"ACT\": 19, \"GPA\": 2.7960000000000003}, {\"SATM\": 490, \"SATV\": 540, \"ACT\": 20, \"GPA\": 3.365}, {\"SATM\": 490, \"SATV\": 460, \"ACT\": 20, \"GPA\": 2.9130000000000003}, {\"SATM\": 490, \"SATV\": 500, \"ACT\": 20, \"GPA\": 3.0439999999999996}, {\"SATM\": 510, \"SATV\": 540, \"ACT\": 20, \"GPA\": 2.608}, {\"SATM\": 530, \"SATV\": 280, \"ACT\": 20, \"GPA\": 1.7890000000000001}, {\"SATM\": 510, \"SATV\": 460, \"ACT\": 21, \"GPA\": 3.202}, {\"SATM\": 520, \"SATV\": 480, \"ACT\": 21, \"GPA\": 3.2439999999999998}, {\"SATM\": 540, \"SATV\": 430, \"ACT\": 21, \"GPA\": 3.4419999999999997}, {\"SATM\": 560, \"SATV\": 430, \"ACT\": 21, \"GPA\": 2.716}, {\"SATM\": 620, \"SATV\": 530, \"ACT\": 21, \"GPA\": 2.208}, {\"SATM\": 690, \"SATV\": 350, \"ACT\": 21, \"GPA\": 3.366}, {\"SATM\": 410, \"SATV\": 600, \"ACT\": 22, \"GPA\": 3.153}, {\"SATM\": 470, \"SATV\": 500, \"ACT\": 22, \"GPA\": 2.097}, {\"SATM\": 560, \"SATV\": 580, \"ACT\": 22, \"GPA\": 3.3160000000000003}, {\"SATM\": 580, \"SATV\": 490, \"ACT\": 22, \"GPA\": 2.5069999999999997}, {\"SATM\": 590, \"SATV\": 620, \"ACT\": 22, \"GPA\": 2.665}, {\"SATM\": 600, \"SATV\": 480, \"ACT\": 22, \"GPA\": 3.26}, {\"SATM\": 650, \"SATV\": 490, \"ACT\": 22, \"GPA\": 3.409}, {\"SATM\": 450, \"SATV\": 530, \"ACT\": 23, \"GPA\": 2.963}, {\"SATM\": 470, \"SATV\": 480, \"ACT\": 23, \"GPA\": 2.92}, {\"SATM\": 480, \"SATV\": 570, \"ACT\": 23, \"GPA\": 3.025}, {\"SATM\": 490, \"SATV\": 500, \"ACT\": 23, \"GPA\": 3.465}, {\"SATM\": 510, \"SATV\": 540, \"ACT\": 23, \"GPA\": 3.262}, {\"SATM\": 520, \"SATV\": 530, \"ACT\": 23, \"GPA\": 2.075}, {\"SATM\": 520, \"SATV\": 530, \"ACT\": 23, \"GPA\": 2.673}, {\"SATM\": 550, \"SATV\": 650, \"ACT\": 23, \"GPA\": 3.657}, {\"SATM\": 550, \"SATV\": 590, \"ACT\": 23, \"GPA\": 3.326}, {\"SATM\": 560, \"SATV\": 540, \"ACT\": 23, \"GPA\": 3.463}, {\"SATM\": 560, \"SATV\": 520, \"ACT\": 23, \"GPA\": 3.315}, {\"SATM\": 570, \"SATV\": 570, \"ACT\": 23, \"GPA\": 3.1830000000000003}, {\"SATM\": 580, \"SATV\": 550, \"ACT\": 23, \"GPA\": 3.667}, {\"SATM\": 610, \"SATV\": 560, \"ACT\": 23, \"GPA\": 3.452}, {\"SATM\": 610, \"SATV\": 630, \"ACT\": 23, \"GPA\": 2.528}, {\"SATM\": 410, \"SATV\": 470, \"ACT\": 24, \"GPA\": 2.496}, {\"SATM\": 500, \"SATV\": 630, \"ACT\": 24, \"GPA\": 2.978}, {\"SATM\": 520, \"SATV\": 630, \"ACT\": 24, \"GPA\": 3.19}, {\"SATM\": 520, \"SATV\": 560, \"ACT\": 24, \"GPA\": 3.3110000000000004}, {\"SATM\": 520, \"SATV\": 610, \"ACT\": 24, \"GPA\": 3.0389999999999997}, {\"SATM\": 540, \"SATV\": 560, \"ACT\": 24, \"GPA\": 3.487}, {\"SATM\": 540, \"SATV\": 560, \"ACT\": 24, \"GPA\": 1.704}, {\"SATM\": 550, \"SATV\": 590, \"ACT\": 24, \"GPA\": 3.659}, {\"SATM\": 580, \"SATV\": 520, \"ACT\": 24, \"GPA\": 3.4410000000000003}, {\"SATM\": 590, \"SATV\": 500, \"ACT\": 24, \"GPA\": 2.8289999999999997}, {\"SATM\": 620, \"SATV\": 600, \"ACT\": 24, \"GPA\": 3.6839999999999997}, {\"SATM\": 630, \"SATV\": 490, \"ACT\": 24, \"GPA\": 3.319}, {\"SATM\": 640, \"SATV\": 480, \"ACT\": 24, \"GPA\": 2.6069999999999998}, {\"SATM\": 420, \"SATV\": 440, \"ACT\": 25, \"GPA\": 2.031}, {\"SATM\": 480, \"SATV\": 520, \"ACT\": 25, \"GPA\": 3.5639999999999996}, {\"SATM\": 490, \"SATV\": 560, \"ACT\": 25, \"GPA\": 3.3710000000000004}, {\"SATM\": 490, \"SATV\": 640, \"ACT\": 25, \"GPA\": 3.6719999999999997}, {\"SATM\": 510, \"SATV\": 520, \"ACT\": 25, \"GPA\": 3.698}, {\"SATM\": 580, \"SATV\": 620, \"ACT\": 25, \"GPA\": 3.3989999999999996}, {\"SATM\": 600, \"SATV\": 670, \"ACT\": 25, \"GPA\": 3.594}, {\"SATM\": 620, \"SATV\": 560, \"ACT\": 25, \"GPA\": 3.1460000000000004}, {\"SATM\": 710, \"SATV\": 600, \"ACT\": 25, \"GPA\": 3.0610000000000004}, {\"SATM\": 720, \"SATV\": 590, \"ACT\": 25, \"GPA\": 3.3169999999999997}, {\"SATM\": 730, \"SATV\": 600, \"ACT\": 25, \"GPA\": 3.613}, {\"SATM\": 780, \"SATV\": 560, \"ACT\": 25, \"GPA\": 2.852}, {\"SATM\": 480, \"SATV\": 530, \"ACT\": 26, \"GPA\": 2.7319999999999998}, {\"SATM\": 490, \"SATV\": 560, \"ACT\": 26, \"GPA\": 3.522}, {\"SATM\": 520, \"SATV\": 600, \"ACT\": 26, \"GPA\": 3.1}, {\"SATM\": 520, \"SATV\": 610, \"ACT\": 26, \"GPA\": 3.471}, {\"SATM\": 520, \"SATV\": 640, \"ACT\": 26, \"GPA\": 3.6310000000000002}, {\"SATM\": 530, \"SATV\": 520, \"ACT\": 26, \"GPA\": 2.199}, {\"SATM\": 530, \"SATV\": 510, \"ACT\": 26, \"GPA\": 3.803}, {\"SATM\": 550, \"SATV\": 700, \"ACT\": 26, \"GPA\": 3.48}, {\"SATM\": 560, \"SATV\": 610, \"ACT\": 26, \"GPA\": 2.989}, {\"SATM\": 580, \"SATV\": 550, \"ACT\": 26, \"GPA\": 3.6210000000000004}, {\"SATM\": 580, \"SATV\": 550, \"ACT\": 26, \"GPA\": 2.784}, {\"SATM\": 580, \"SATV\": 580, \"ACT\": 26, \"GPA\": 3.485}, {\"SATM\": 580, \"SATV\": 660, \"ACT\": 26, \"GPA\": 3.016}, {\"SATM\": 580, \"SATV\": 540, \"ACT\": 26, \"GPA\": 3.695}, {\"SATM\": 590, \"SATV\": 580, \"ACT\": 26, \"GPA\": 2.496}, {\"SATM\": 590, \"SATV\": 570, \"ACT\": 26, \"GPA\": 3.638}, {\"SATM\": 620, \"SATV\": 570, \"ACT\": 26, \"GPA\": 3.03}, {\"SATM\": 620, \"SATV\": 560, \"ACT\": 26, \"GPA\": 3.6860000000000004}, {\"SATM\": 630, \"SATV\": 700, \"ACT\": 26, \"GPA\": 3.145}, {\"SATM\": 630, \"SATV\": 610, \"ACT\": 26, \"GPA\": 3.222}, {\"SATM\": 660, \"SATV\": 560, \"ACT\": 26, \"GPA\": 3.7510000000000003}, {\"SATM\": 660, \"SATV\": 570, \"ACT\": 26, \"GPA\": 3.128}, {\"SATM\": 690, \"SATV\": 600, \"ACT\": 26, \"GPA\": 2.513}, {\"SATM\": 470, \"SATV\": 710, \"ACT\": 27, \"GPA\": 3.625}, {\"SATM\": 530, \"SATV\": 640, \"ACT\": 27, \"GPA\": 3.804}, {\"SATM\": 540, \"SATV\": 630, \"ACT\": 27, \"GPA\": 3.105}, {\"SATM\": 540, \"SATV\": 610, \"ACT\": 27, \"GPA\": 2.275}, {\"SATM\": 550, \"SATV\": 630, \"ACT\": 27, \"GPA\": 3.4789999999999996}, {\"SATM\": 560, \"SATV\": 520, \"ACT\": 27, \"GPA\": 3.222}, {\"SATM\": 570, \"SATV\": 610, \"ACT\": 27, \"GPA\": 3.41}, {\"SATM\": 580, \"SATV\": 560, \"ACT\": 27, \"GPA\": 3.77}, {\"SATM\": 600, \"SATV\": 540, \"ACT\": 27, \"GPA\": 3.6460000000000004}, {\"SATM\": 610, \"SATV\": 540, \"ACT\": 27, \"GPA\": 3.735}, {\"SATM\": 610, \"SATV\": 570, \"ACT\": 27, \"GPA\": 3.6180000000000003}, {\"SATM\": 610, \"SATV\": 670, \"ACT\": 27, \"GPA\": 3.167}, {\"SATM\": 610, \"SATV\": 630, \"ACT\": 27, \"GPA\": 3.015}, {\"SATM\": 620, \"SATV\": 570, \"ACT\": 27, \"GPA\": 3.6180000000000003}, {\"SATM\": 620, \"SATV\": 570, \"ACT\": 27, \"GPA\": 3.2539999999999996}, {\"SATM\": 620, \"SATV\": 600, \"ACT\": 27, \"GPA\": 3.407}, {\"SATM\": 630, \"SATV\": 490, \"ACT\": 27, \"GPA\": 3.327}, {\"SATM\": 650, \"SATV\": 600, \"ACT\": 27, \"GPA\": 3.2039999999999997}, {\"SATM\": 650, \"SATV\": 630, \"ACT\": 27, \"GPA\": 3.324}, {\"SATM\": 650, \"SATV\": 570, \"ACT\": 27, \"GPA\": 3.1260000000000003}, {\"SATM\": 670, \"SATV\": 540, \"ACT\": 27, \"GPA\": 3.58}, {\"SATM\": 670, \"SATV\": 570, \"ACT\": 27, \"GPA\": 3.83}, {\"SATM\": 670, \"SATV\": 620, \"ACT\": 27, \"GPA\": 3.475}, {\"SATM\": 670, \"SATV\": 460, \"ACT\": 27, \"GPA\": 2.048}, {\"SATM\": 670, \"SATV\": 700, \"ACT\": 27, \"GPA\": 3.83}, {\"SATM\": 690, \"SATV\": 580, \"ACT\": 27, \"GPA\": 3.284}, {\"SATM\": 720, \"SATV\": 650, \"ACT\": 27, \"GPA\": 3.9339999999999997}, {\"SATM\": 720, \"SATV\": 680, \"ACT\": 27, \"GPA\": 3.78}, {\"SATM\": 520, \"SATV\": 600, \"ACT\": 28, \"GPA\": 3.4130000000000003}, {\"SATM\": 530, \"SATV\": 560, \"ACT\": 28, \"GPA\": 3.502}, {\"SATM\": 550, \"SATV\": 580, \"ACT\": 28, \"GPA\": 3.605}, {\"SATM\": 550, \"SATV\": 660, \"ACT\": 28, \"GPA\": 3.563}, {\"SATM\": 570, \"SATV\": 590, \"ACT\": 28, \"GPA\": 3.127}, {\"SATM\": 580, \"SATV\": 650, \"ACT\": 28, \"GPA\": 3.765}, {\"SATM\": 590, \"SATV\": 730, \"ACT\": 28, \"GPA\": 3.792}, {\"SATM\": 590, \"SATV\": 720, \"ACT\": 28, \"GPA\": 3.847}, {\"SATM\": 600, \"SATV\": 710, \"ACT\": 28, \"GPA\": 2.4530000000000003}, {\"SATM\": 600, \"SATV\": 590, \"ACT\": 28, \"GPA\": 3.287}, {\"SATM\": 600, \"SATV\": 660, \"ACT\": 28, \"GPA\": 2.452}, {\"SATM\": 600, \"SATV\": 580, \"ACT\": 28, \"GPA\": 3.4410000000000003}, {\"SATM\": 600, \"SATV\": 710, \"ACT\": 28, \"GPA\": 3.821}, {\"SATM\": 610, \"SATV\": 530, \"ACT\": 28, \"GPA\": 2.9760000000000004}, {\"SATM\": 610, \"SATV\": 590, \"ACT\": 28, \"GPA\": 3.75}, {\"SATM\": 610, \"SATV\": 650, \"ACT\": 28, \"GPA\": 2.972}, {\"SATM\": 610, \"SATV\": 630, \"ACT\": 28, \"GPA\": 3.647}, {\"SATM\": 630, \"SATV\": 620, \"ACT\": 28, \"GPA\": 3.424}, {\"SATM\": 630, \"SATV\": 570, \"ACT\": 28, \"GPA\": 3.457}, {\"SATM\": 660, \"SATV\": 630, \"ACT\": 28, \"GPA\": 3.66}, {\"SATM\": 710, \"SATV\": 670, \"ACT\": 28, \"GPA\": 3.877}, {\"SATM\": 730, \"SATV\": 590, \"ACT\": 28, \"GPA\": 3.534}, {\"SATM\": 540, \"SATV\": 630, \"ACT\": 29, \"GPA\": 3.594}, {\"SATM\": 570, \"SATV\": 570, \"ACT\": 29, \"GPA\": 3.5}, {\"SATM\": 580, \"SATV\": 570, \"ACT\": 29, \"GPA\": 3.575}, {\"SATM\": 580, \"SATV\": 620, \"ACT\": 29, \"GPA\": 3.03}, {\"SATM\": 600, \"SATV\": 650, \"ACT\": 29, \"GPA\": 3.301}, {\"SATM\": 610, \"SATV\": 680, \"ACT\": 29, \"GPA\": 2.94}, {\"SATM\": 610, \"SATV\": 650, \"ACT\": 29, \"GPA\": 2.738}, {\"SATM\": 610, \"SATV\": 660, \"ACT\": 29, \"GPA\": 2.943}, {\"SATM\": 610, \"SATV\": 610, \"ACT\": 29, \"GPA\": 2.121}, {\"SATM\": 620, \"SATV\": 630, \"ACT\": 29, \"GPA\": 3.665}, {\"SATM\": 640, \"SATV\": 660, \"ACT\": 29, \"GPA\": 2.864}, {\"SATM\": 640, \"SATV\": 620, \"ACT\": 29, \"GPA\": 3.7119999999999997}, {\"SATM\": 640, \"SATV\": 690, \"ACT\": 29, \"GPA\": 3.319}, {\"SATM\": 640, \"SATV\": 670, \"ACT\": 29, \"GPA\": 3.929}, {\"SATM\": 640, \"SATV\": 640, \"ACT\": 29, \"GPA\": 3.838}, {\"SATM\": 650, \"SATV\": 630, \"ACT\": 29, \"GPA\": 3.6489999999999996}, {\"SATM\": 650, \"SATV\": 490, \"ACT\": 29, \"GPA\": 3.528}, {\"SATM\": 650, \"SATV\": 620, \"ACT\": 29, \"GPA\": 2.8280000000000003}, {\"SATM\": 660, \"SATV\": 640, \"ACT\": 29, \"GPA\": 3.464}, {\"SATM\": 680, \"SATV\": 680, \"ACT\": 29, \"GPA\": 3.5380000000000003}, {\"SATM\": 680, \"SATV\": 630, \"ACT\": 29, \"GPA\": 3.9189999999999996}, {\"SATM\": 690, \"SATV\": 620, \"ACT\": 29, \"GPA\": 2.827}, {\"SATM\": 700, \"SATV\": 670, \"ACT\": 29, \"GPA\": 3.677}, {\"SATM\": 700, \"SATV\": 610, \"ACT\": 29, \"GPA\": 2.645}, {\"SATM\": 710, \"SATV\": 640, \"ACT\": 29, \"GPA\": 3.898}, {\"SATM\": 710, \"SATV\": 590, \"ACT\": 29, \"GPA\": 3.8539999999999996}, {\"SATM\": 770, \"SATV\": 610, \"ACT\": 29, \"GPA\": 2.01}, {\"SATM\": 550, \"SATV\": 650, \"ACT\": 30, \"GPA\": 3.134}, {\"SATM\": 560, \"SATV\": 670, \"ACT\": 30, \"GPA\": 3.947}, {\"SATM\": 570, \"SATV\": 720, \"ACT\": 30, \"GPA\": 3.662}, {\"SATM\": 570, \"SATV\": 670, \"ACT\": 30, \"GPA\": 2.983}, {\"SATM\": 590, \"SATV\": 640, \"ACT\": 30, \"GPA\": 3.5439999999999996}, {\"SATM\": 620, \"SATV\": 600, \"ACT\": 30, \"GPA\": 2.5860000000000003}, {\"SATM\": 640, \"SATV\": 600, \"ACT\": 30, \"GPA\": 3.707}, {\"SATM\": 640, \"SATV\": 580, \"ACT\": 30, \"GPA\": 3.7680000000000002}, {\"SATM\": 660, \"SATV\": 710, \"ACT\": 30, \"GPA\": 3.5269999999999997}, {\"SATM\": 660, \"SATV\": 680, \"ACT\": 30, \"GPA\": 3.344}, {\"SATM\": 670, \"SATV\": 630, \"ACT\": 30, \"GPA\": 3.407}, {\"SATM\": 680, \"SATV\": 690, \"ACT\": 30, \"GPA\": 3.406}, {\"SATM\": 680, \"SATV\": 670, \"ACT\": 30, \"GPA\": 2.925}, {\"SATM\": 690, \"SATV\": 630, \"ACT\": 30, \"GPA\": 3.877}, {\"SATM\": 700, \"SATV\": 670, \"ACT\": 30, \"GPA\": 3.992}, {\"SATM\": 700, \"SATV\": 760, \"ACT\": 30, \"GPA\": 3.975}, {\"SATM\": 720, \"SATV\": 700, \"ACT\": 30, \"GPA\": 3.987}, {\"SATM\": 730, \"SATV\": 610, \"ACT\": 30, \"GPA\": 3.8}, {\"SATM\": 730, \"SATV\": 730, \"ACT\": 30, \"GPA\": 3.989}, {\"SATM\": 750, \"SATV\": 650, \"ACT\": 30, \"GPA\": 3.33}, {\"SATM\": 750, \"SATV\": 650, \"ACT\": 30, \"GPA\": 3.469}, {\"SATM\": 590, \"SATV\": 660, \"ACT\": 31, \"GPA\": 3.236}, {\"SATM\": 600, \"SATV\": 670, \"ACT\": 31, \"GPA\": 3.812}, {\"SATM\": 610, \"SATV\": 650, \"ACT\": 31, \"GPA\": 3.593}, {\"SATM\": 640, \"SATV\": 710, \"ACT\": 31, \"GPA\": 3.745}, {\"SATM\": 640, \"SATV\": 700, \"ACT\": 31, \"GPA\": 3.178}, {\"SATM\": 640, \"SATV\": 720, \"ACT\": 31, \"GPA\": 3.76}, {\"SATM\": 660, \"SATV\": 780, \"ACT\": 31, \"GPA\": 3.737}, {\"SATM\": 660, \"SATV\": 710, \"ACT\": 31, \"GPA\": 3.61}, {\"SATM\": 660, \"SATV\": 630, \"ACT\": 31, \"GPA\": 3.6180000000000003}, {\"SATM\": 660, \"SATV\": 610, \"ACT\": 31, \"GPA\": 3.7939999999999996}, {\"SATM\": 660, \"SATV\": 560, \"ACT\": 31, \"GPA\": 2.8569999999999998}, {\"SATM\": 680, \"SATV\": 700, \"ACT\": 31, \"GPA\": 3.483}, {\"SATM\": 690, \"SATV\": 750, \"ACT\": 31, \"GPA\": 3.8110000000000004}, {\"SATM\": 690, \"SATV\": 680, \"ACT\": 31, \"GPA\": 3.7910000000000004}, {\"SATM\": 690, \"SATV\": 660, \"ACT\": 31, \"GPA\": 3.813}, {\"SATM\": 690, \"SATV\": 630, \"ACT\": 31, \"GPA\": 3.9539999999999997}, {\"SATM\": 700, \"SATV\": 630, \"ACT\": 31, \"GPA\": 3.62}, {\"SATM\": 700, \"SATV\": 760, \"ACT\": 31, \"GPA\": 3.4930000000000003}, {\"SATM\": 700, \"SATV\": 640, \"ACT\": 31, \"GPA\": 3.912}, {\"SATM\": 700, \"SATV\": 680, \"ACT\": 31, \"GPA\": 3.485}, {\"SATM\": 710, \"SATV\": 700, \"ACT\": 31, \"GPA\": 3.763}, {\"SATM\": 720, \"SATV\": 630, \"ACT\": 31, \"GPA\": 2.707}, {\"SATM\": 730, \"SATV\": 750, \"ACT\": 31, \"GPA\": 3.947}, {\"SATM\": 760, \"SATV\": 590, \"ACT\": 31, \"GPA\": 3.887}, {\"SATM\": 770, \"SATV\": 650, \"ACT\": 31, \"GPA\": 3.988}, {\"SATM\": 620, \"SATV\": 760, \"ACT\": 32, \"GPA\": 3.593}, {\"SATM\": 630, \"SATV\": 650, \"ACT\": 32, \"GPA\": 3.5980000000000003}, {\"SATM\": 650, \"SATV\": 720, \"ACT\": 32, \"GPA\": 3.9410000000000003}, {\"SATM\": 660, \"SATV\": 740, \"ACT\": 32, \"GPA\": 2.456}, {\"SATM\": 660, \"SATV\": 730, \"ACT\": 32, \"GPA\": 3.909}, {\"SATM\": 660, \"SATV\": 690, \"ACT\": 32, \"GPA\": 3.909}, {\"SATM\": 670, \"SATV\": 650, \"ACT\": 32, \"GPA\": 3.2880000000000003}, {\"SATM\": 670, \"SATV\": 620, \"ACT\": 32, \"GPA\": 3.91}, {\"SATM\": 690, \"SATV\": 700, \"ACT\": 32, \"GPA\": 3.78}, {\"SATM\": 690, \"SATV\": 720, \"ACT\": 32, \"GPA\": 3.8510000000000004}, {\"SATM\": 690, \"SATV\": 680, \"ACT\": 32, \"GPA\": 3.764}, {\"SATM\": 690, \"SATV\": 750, \"ACT\": 32, \"GPA\": 3.823}, {\"SATM\": 690, \"SATV\": 680, \"ACT\": 32, \"GPA\": 3.676}, {\"SATM\": 700, \"SATV\": 640, \"ACT\": 32, \"GPA\": 2.721}, {\"SATM\": 700, \"SATV\": 700, \"ACT\": 32, \"GPA\": 3.9419999999999997}, {\"SATM\": 710, \"SATV\": 680, \"ACT\": 32, \"GPA\": 4.0}, {\"SATM\": 710, \"SATV\": 750, \"ACT\": 32, \"GPA\": 3.943}, {\"SATM\": 710, \"SATV\": 740, \"ACT\": 32, \"GPA\": 2.708}, {\"SATM\": 730, \"SATV\": 580, \"ACT\": 32, \"GPA\": 3.4330000000000003}, {\"SATM\": 760, \"SATV\": 720, \"ACT\": 32, \"GPA\": 3.784}, {\"SATM\": 770, \"SATV\": 670, \"ACT\": 32, \"GPA\": 3.303}, {\"SATM\": 780, \"SATV\": 800, \"ACT\": 32, \"GPA\": 3.929}, {\"SATM\": 800, \"SATV\": 750, \"ACT\": 32, \"GPA\": 3.653}, {\"SATM\": 620, \"SATV\": 730, \"ACT\": 33, \"GPA\": 3.9160000000000004}, {\"SATM\": 650, \"SATV\": 690, \"ACT\": 33, \"GPA\": 3.4010000000000002}, {\"SATM\": 680, \"SATV\": 720, \"ACT\": 33, \"GPA\": 3.824}, {\"SATM\": 690, \"SATV\": 590, \"ACT\": 33, \"GPA\": 3.535}, {\"SATM\": 700, \"SATV\": 580, \"ACT\": 33, \"GPA\": 3.898}, {\"SATM\": 710, \"SATV\": 730, \"ACT\": 33, \"GPA\": 3.6430000000000002}, {\"SATM\": 710, \"SATV\": 730, \"ACT\": 33, \"GPA\": 3.98}, {\"SATM\": 710, \"SATV\": 720, \"ACT\": 33, \"GPA\": 3.642}, {\"SATM\": 710, \"SATV\": 630, \"ACT\": 33, \"GPA\": 3.8739999999999997}, {\"SATM\": 730, \"SATV\": 690, \"ACT\": 33, \"GPA\": 3.9360000000000004}, {\"SATM\": 790, \"SATV\": 730, \"ACT\": 33, \"GPA\": 3.154}, {\"SATM\": 800, \"SATV\": 630, \"ACT\": 33, \"GPA\": 3.925}, {\"SATM\": 800, \"SATV\": 720, \"ACT\": 33, \"GPA\": 3.888}, {\"SATM\": 640, \"SATV\": 730, \"ACT\": 34, \"GPA\": 3.885}, {\"SATM\": 640, \"SATV\": 670, \"ACT\": 34, \"GPA\": 3.536}, {\"SATM\": 670, \"SATV\": 650, \"ACT\": 34, \"GPA\": 3.872}, {\"SATM\": 690, \"SATV\": 800, \"ACT\": 34, \"GPA\": 3.8939999999999997}, {\"SATM\": 700, \"SATV\": 800, \"ACT\": 34, \"GPA\": 2.5340000000000003}, {\"SATM\": 720, \"SATV\": 720, \"ACT\": 34, \"GPA\": 3.37}, {\"SATM\": 740, \"SATV\": 740, \"ACT\": 34, \"GPA\": 3.833}, {\"SATM\": 750, \"SATV\": 800, \"ACT\": 34, \"GPA\": 3.944}, {\"SATM\": 760, \"SATV\": 750, \"ACT\": 34, \"GPA\": 3.7569999999999997}, {\"SATM\": 770, \"SATV\": 730, \"ACT\": 34, \"GPA\": 3.325}, {\"SATM\": 790, \"SATV\": 710, \"ACT\": 34, \"GPA\": 3.928}, {\"SATM\": 790, \"SATV\": 760, \"ACT\": 34, \"GPA\": 3.889}, {\"SATM\": 790, \"SATV\": 660, \"ACT\": 34, \"GPA\": 3.821}, {\"SATM\": 800, \"SATV\": 680, \"ACT\": 34, \"GPA\": 3.765}, {\"SATM\": 700, \"SATV\": 680, \"ACT\": 35, \"GPA\": 3.911}, {\"SATM\": 720, \"SATV\": 770, \"ACT\": 35, \"GPA\": 3.9810000000000003}, {\"SATM\": 750, \"SATV\": 730, \"ACT\": 35, \"GPA\": 3.8819999999999997}, {\"SATM\": 790, \"SATV\": 780, \"ACT\": 35, \"GPA\": 3.887}]}}, {\"mode\": \"vega-lite\"});\n",
              "</script>"
            ]
          },
          "metadata": {
            "tags": []
          },
          "execution_count": 154
        }
      ]
    },
    {
      "cell_type": "code",
      "metadata": {
        "id": "O5ytz_5bEVHf"
      },
      "source": [
        "import pandas as pd\n",
        "import altair as alt\n",
        "import numpy as np"
      ],
      "execution_count": 155,
      "outputs": []
    },
    {
      "cell_type": "code",
      "metadata": {
        "id": "dDW8O6paAciW",
        "outputId": "6f91b1f9-ba35-4a74-b8c9-8181817f254f",
        "colab": {
          "base_uri": "https://localhost:8080/",
          "height": 204
        }
      },
      "source": [
        "fatalities_df = pd.read_csv('/content/sample_data/ukDriverFatalities.csv')\n",
        "fatalities_df.head()"
      ],
      "execution_count": 92,
      "outputs": [
        {
          "output_type": "execute_result",
          "data": {
            "text/html": [
              "<div>\n",
              "<style scoped>\n",
              "    .dataframe tbody tr th:only-of-type {\n",
              "        vertical-align: middle;\n",
              "    }\n",
              "\n",
              "    .dataframe tbody tr th {\n",
              "        vertical-align: top;\n",
              "    }\n",
              "\n",
              "    .dataframe thead th {\n",
              "        text-align: right;\n",
              "    }\n",
              "</style>\n",
              "<table border=\"1\" class=\"dataframe\">\n",
              "  <thead>\n",
              "    <tr style=\"text-align: right;\">\n",
              "      <th></th>\n",
              "      <th>month</th>\n",
              "      <th>year</th>\n",
              "      <th>count</th>\n",
              "    </tr>\n",
              "  </thead>\n",
              "  <tbody>\n",
              "    <tr>\n",
              "      <th>0</th>\n",
              "      <td>0</td>\n",
              "      <td>1969</td>\n",
              "      <td>1687</td>\n",
              "    </tr>\n",
              "    <tr>\n",
              "      <th>1</th>\n",
              "      <td>1</td>\n",
              "      <td>1969</td>\n",
              "      <td>1508</td>\n",
              "    </tr>\n",
              "    <tr>\n",
              "      <th>2</th>\n",
              "      <td>2</td>\n",
              "      <td>1969</td>\n",
              "      <td>1507</td>\n",
              "    </tr>\n",
              "    <tr>\n",
              "      <th>3</th>\n",
              "      <td>3</td>\n",
              "      <td>1969</td>\n",
              "      <td>1385</td>\n",
              "    </tr>\n",
              "    <tr>\n",
              "      <th>4</th>\n",
              "      <td>4</td>\n",
              "      <td>1969</td>\n",
              "      <td>1632</td>\n",
              "    </tr>\n",
              "  </tbody>\n",
              "</table>\n",
              "</div>"
            ],
            "text/plain": [
              "   month  year  count\n",
              "0      0  1969   1687\n",
              "1      1  1969   1508\n",
              "2      2  1969   1507\n",
              "3      3  1969   1385\n",
              "4      4  1969   1632"
            ]
          },
          "metadata": {
            "tags": []
          },
          "execution_count": 92
        }
      ]
    },
    {
      "cell_type": "markdown",
      "metadata": {
        "id": "Iv66xOvr-m11"
      },
      "source": [
        "1. Heatmap \n",
        "  - Year in one axis\n",
        "  - Month in second axis\n",
        "  - Color should encodes the number of deaths\n",
        "  - Add legend"
      ]
    },
    {
      "cell_type": "code",
      "metadata": {
        "id": "trDq3svA-xYn",
        "outputId": "ec20d4b5-1dc1-4b1f-825e-7593a7f5f5b4",
        "colab": {
          "base_uri": "https://localhost:8080/",
          "height": 402
        }
      },
      "source": [
        "min_month, max_month = min(fatalities_df['month']),max(fatalities_df['month'])\n",
        "min_year, max_year = min(fatalities_df['year']),max(fatalities_df['year'])\n",
        "\n",
        "x, y = np.meshgrid(range(min_month,max_month+1), range(min_year, max_year+1))\n",
        "deaths = fatalities_df.pivot(index='month', columns='year', values='count').to_numpy()\n",
        "\n",
        "source = pd.DataFrame({'month': x.ravel(),\n",
        "                       'year': y.ravel(),\n",
        "                       'deaths': deaths.ravel()})\n",
        "\n",
        "\n",
        "alt.Chart(source, title=\"Deaths across time\").mark_rect().encode(\n",
        "    x=alt.X('month:O',scale=alt.Scale(zero=False)),\n",
        "    y=alt.Y('year:O',scale=alt.Scale(zero=False)),\n",
        "    color=alt.Color('deaths:Q'),\n",
        "    tooltip=(['deaths'])\n",
        ")"
      ],
      "execution_count": 149,
      "outputs": [
        {
          "output_type": "execute_result",
          "data": {
            "text/plain": [
              "alt.Chart(...)"
            ],
            "text/html": [
              "\n",
              "<div id=\"altair-viz-ae6494f5e736466382fa4b2bc6c9e4ba\"></div>\n",
              "<script type=\"text/javascript\">\n",
              "  (function(spec, embedOpt){\n",
              "    let outputDiv = document.currentScript.previousElementSibling;\n",
              "    if (outputDiv.id !== \"altair-viz-ae6494f5e736466382fa4b2bc6c9e4ba\") {\n",
              "      outputDiv = document.getElementById(\"altair-viz-ae6494f5e736466382fa4b2bc6c9e4ba\");\n",
              "    }\n",
              "    const paths = {\n",
              "      \"vega\": \"https://cdn.jsdelivr.net/npm//vega@5?noext\",\n",
              "      \"vega-lib\": \"https://cdn.jsdelivr.net/npm//vega-lib?noext\",\n",
              "      \"vega-lite\": \"https://cdn.jsdelivr.net/npm//vega-lite@4.8.1?noext\",\n",
              "      \"vega-embed\": \"https://cdn.jsdelivr.net/npm//vega-embed@6?noext\",\n",
              "    };\n",
              "\n",
              "    function loadScript(lib) {\n",
              "      return new Promise(function(resolve, reject) {\n",
              "        var s = document.createElement('script');\n",
              "        s.src = paths[lib];\n",
              "        s.async = true;\n",
              "        s.onload = () => resolve(paths[lib]);\n",
              "        s.onerror = () => reject(`Error loading script: ${paths[lib]}`);\n",
              "        document.getElementsByTagName(\"head\")[0].appendChild(s);\n",
              "      });\n",
              "    }\n",
              "\n",
              "    function showError(err) {\n",
              "      outputDiv.innerHTML = `<div class=\"error\" style=\"color:red;\">${err}</div>`;\n",
              "      throw err;\n",
              "    }\n",
              "\n",
              "    function displayChart(vegaEmbed) {\n",
              "      vegaEmbed(outputDiv, spec, embedOpt)\n",
              "        .catch(err => showError(`Javascript Error: ${err.message}<br>This usually means there's a typo in your chart specification. See the javascript console for the full traceback.`));\n",
              "    }\n",
              "\n",
              "    if(typeof define === \"function\" && define.amd) {\n",
              "      requirejs.config({paths});\n",
              "      require([\"vega-embed\"], displayChart, err => showError(`Error loading script: ${err.message}`));\n",
              "    } else if (typeof vegaEmbed === \"function\") {\n",
              "      displayChart(vegaEmbed);\n",
              "    } else {\n",
              "      loadScript(\"vega\")\n",
              "        .then(() => loadScript(\"vega-lite\"))\n",
              "        .then(() => loadScript(\"vega-embed\"))\n",
              "        .catch(showError)\n",
              "        .then(() => displayChart(vegaEmbed));\n",
              "    }\n",
              "  })({\"config\": {\"view\": {\"continuousWidth\": 400, \"continuousHeight\": 300}}, \"data\": {\"name\": \"data-e2dfb26fd6cf8a83e7da2999520c5895\"}, \"mark\": \"rect\", \"encoding\": {\"color\": {\"type\": \"quantitative\", \"field\": \"deaths\"}, \"tooltip\": [{\"type\": \"quantitative\", \"field\": \"deaths\"}], \"x\": {\"type\": \"ordinal\", \"field\": \"month\", \"scale\": {\"zero\": false}}, \"y\": {\"type\": \"ordinal\", \"field\": \"year\", \"scale\": {\"zero\": false}}}, \"title\": \"Deaths across time\", \"$schema\": \"https://vega.github.io/schema/vega-lite/v4.8.1.json\", \"datasets\": {\"data-e2dfb26fd6cf8a83e7da2999520c5895\": [{\"month\": 0, \"year\": 1969, \"deaths\": 1687}, {\"month\": 1, \"year\": 1969, \"deaths\": 1752}, {\"month\": 2, \"year\": 1969, \"deaths\": 2030}, {\"month\": 3, \"year\": 1969, \"deaths\": 2080}, {\"month\": 4, \"year\": 1969, \"deaths\": 2097}, {\"month\": 5, \"year\": 1969, \"deaths\": 1608}, {\"month\": 6, \"year\": 1969, \"deaths\": 1577}, {\"month\": 7, \"year\": 1969, \"deaths\": 1473}, {\"month\": 8, \"year\": 1969, \"deaths\": 1648}, {\"month\": 9, \"year\": 1969, \"deaths\": 1956}, {\"month\": 10, \"year\": 1969, \"deaths\": 1813}, {\"month\": 11, \"year\": 1969, \"deaths\": 1665}, {\"month\": 0, \"year\": 1970, \"deaths\": 1474}, {\"month\": 1, \"year\": 1970, \"deaths\": 1456}, {\"month\": 2, \"year\": 1970, \"deaths\": 1494}, {\"month\": 3, \"year\": 1970, \"deaths\": 1357}, {\"month\": 4, \"year\": 1970, \"deaths\": 1508}, {\"month\": 5, \"year\": 1970, \"deaths\": 1765}, {\"month\": 6, \"year\": 1970, \"deaths\": 1655}, {\"month\": 7, \"year\": 1970, \"deaths\": 1768}, {\"month\": 8, \"year\": 1970, \"deaths\": 1963}, {\"month\": 9, \"year\": 1970, \"deaths\": 1503}, {\"month\": 10, \"year\": 1970, \"deaths\": 1356}, {\"month\": 11, \"year\": 1970, \"deaths\": 1655}, {\"month\": 0, \"year\": 1971, \"deaths\": 1401}, {\"month\": 1, \"year\": 1971, \"deaths\": 1462}, {\"month\": 2, \"year\": 1971, \"deaths\": 1445}, {\"month\": 3, \"year\": 1971, \"deaths\": 1361}, {\"month\": 4, \"year\": 1971, \"deaths\": 1458}, {\"month\": 5, \"year\": 1971, \"deaths\": 1445}, {\"month\": 6, \"year\": 1971, \"deaths\": 1057}, {\"month\": 7, \"year\": 1971, \"deaths\": 1165}, {\"month\": 8, \"year\": 1971, \"deaths\": 1507}, {\"month\": 9, \"year\": 1971, \"deaths\": 1717}, {\"month\": 10, \"year\": 1971, \"deaths\": 1693}, {\"month\": 11, \"year\": 1971, \"deaths\": 1835}, {\"month\": 0, \"year\": 1972, \"deaths\": 1677}, {\"month\": 1, \"year\": 1972, \"deaths\": 1548}, {\"month\": 2, \"year\": 1972, \"deaths\": 1652}, {\"month\": 3, \"year\": 1972, \"deaths\": 1407}, {\"month\": 4, \"year\": 1972, \"deaths\": 1411}, {\"month\": 5, \"year\": 1972, \"deaths\": 1563}, {\"month\": 6, \"year\": 1972, \"deaths\": 1762}, {\"month\": 7, \"year\": 1972, \"deaths\": 1506}, {\"month\": 8, \"year\": 1972, \"deaths\": 1542}, {\"month\": 9, \"year\": 1972, \"deaths\": 1456}, {\"month\": 10, \"year\": 1972, \"deaths\": 1218}, {\"month\": 11, \"year\": 1972, \"deaths\": 1282}, {\"month\": 0, \"year\": 1973, \"deaths\": 1385}, {\"month\": 1, \"year\": 1973, \"deaths\": 1558}, {\"month\": 2, \"year\": 1973, \"deaths\": 1623}, {\"month\": 3, \"year\": 1973, \"deaths\": 1569}, {\"month\": 4, \"year\": 1973, \"deaths\": 1941}, {\"month\": 5, \"year\": 1973, \"deaths\": 1382}, {\"month\": 6, \"year\": 1973, \"deaths\": 1382}, {\"month\": 7, \"year\": 1973, \"deaths\": 1395}, {\"month\": 8, \"year\": 1973, \"deaths\": 1403}, {\"month\": 9, \"year\": 1973, \"deaths\": 1459}, {\"month\": 10, \"year\": 1973, \"deaths\": 1461}, {\"month\": 11, \"year\": 1973, \"deaths\": 1360}, {\"month\": 0, \"year\": 1974, \"deaths\": 1404}, {\"month\": 1, \"year\": 1974, \"deaths\": 1365}, {\"month\": 2, \"year\": 1974, \"deaths\": 1168}, {\"month\": 3, \"year\": 1974, \"deaths\": 1110}, {\"month\": 4, \"year\": 1974, \"deaths\": 1632}, {\"month\": 5, \"year\": 1974, \"deaths\": 1575}, {\"month\": 6, \"year\": 1974, \"deaths\": 1805}, {\"month\": 7, \"year\": 1974, \"deaths\": 1976}, {\"month\": 8, \"year\": 1974, \"deaths\": 2003}, {\"month\": 9, \"year\": 1974, \"deaths\": 1731}, {\"month\": 10, \"year\": 1974, \"deaths\": 1519}, {\"month\": 11, \"year\": 1974, \"deaths\": 1530}, {\"month\": 0, \"year\": 1975, \"deaths\": 1394}, {\"month\": 1, \"year\": 1975, \"deaths\": 1446}, {\"month\": 2, \"year\": 1975, \"deaths\": 1556}, {\"month\": 3, \"year\": 1975, \"deaths\": 1453}, {\"month\": 4, \"year\": 1975, \"deaths\": 1522}, {\"month\": 5, \"year\": 1975, \"deaths\": 1487}, {\"month\": 6, \"year\": 1975, \"deaths\": 1236}, {\"month\": 7, \"year\": 1975, \"deaths\": 1297}, {\"month\": 8, \"year\": 1975, \"deaths\": 1511}, {\"month\": 9, \"year\": 1975, \"deaths\": 1520}, {\"month\": 10, \"year\": 1975, \"deaths\": 1746}, {\"month\": 11, \"year\": 1975, \"deaths\": 1853}, {\"month\": 0, \"year\": 1976, \"deaths\": 1813}, {\"month\": 1, \"year\": 1976, \"deaths\": 1798}, {\"month\": 2, \"year\": 1976, \"deaths\": 1421}, {\"month\": 3, \"year\": 1976, \"deaths\": 1309}, {\"month\": 4, \"year\": 1976, \"deaths\": 1520}, {\"month\": 5, \"year\": 1976, \"deaths\": 1622}, {\"month\": 6, \"year\": 1976, \"deaths\": 1431}, {\"month\": 7, \"year\": 1976, \"deaths\": 1522}, {\"month\": 8, \"year\": 1976, \"deaths\": 1385}, {\"month\": 9, \"year\": 1976, \"deaths\": 1558}, {\"month\": 10, \"year\": 1976, \"deaths\": 1076}, {\"month\": 11, \"year\": 1976, \"deaths\": 1185}, {\"month\": 0, \"year\": 1977, \"deaths\": 1559}, {\"month\": 1, \"year\": 1977, \"deaths\": 1805}, {\"month\": 2, \"year\": 1977, \"deaths\": 1795}, {\"month\": 3, \"year\": 1977, \"deaths\": 1965}, {\"month\": 4, \"year\": 1977, \"deaths\": 2012}, {\"month\": 5, \"year\": 1977, \"deaths\": 1779}, {\"month\": 6, \"year\": 1977, \"deaths\": 1442}, {\"month\": 7, \"year\": 1977, \"deaths\": 1526}, {\"month\": 8, \"year\": 1977, \"deaths\": 1528}, {\"month\": 9, \"year\": 1977, \"deaths\": 1657}, {\"month\": 10, \"year\": 1977, \"deaths\": 1427}, {\"month\": 11, \"year\": 1977, \"deaths\": 1460}, {\"month\": 0, \"year\": 1978, \"deaths\": 1641}, {\"month\": 1, \"year\": 1978, \"deaths\": 1488}, {\"month\": 2, \"year\": 1978, \"deaths\": 1174}, {\"month\": 3, \"year\": 1978, \"deaths\": 1222}, {\"month\": 4, \"year\": 1978, \"deaths\": 1630}, {\"month\": 5, \"year\": 1978, \"deaths\": 1800}, {\"month\": 6, \"year\": 1978, \"deaths\": 1926}, {\"month\": 7, \"year\": 1978, \"deaths\": 1689}, {\"month\": 8, \"year\": 1978, \"deaths\": 1912}, {\"month\": 9, \"year\": 1978, \"deaths\": 1887}, {\"month\": 10, \"year\": 1978, \"deaths\": 1543}, {\"month\": 11, \"year\": 1978, \"deaths\": 1327}, {\"month\": 0, \"year\": 1979, \"deaths\": 1643}, {\"month\": 1, \"year\": 1979, \"deaths\": 1638}, {\"month\": 2, \"year\": 1979, \"deaths\": 1554}, {\"month\": 3, \"year\": 1979, \"deaths\": 1552}, {\"month\": 4, \"year\": 1979, \"deaths\": 1510}, {\"month\": 5, \"year\": 1979, \"deaths\": 1684}, {\"month\": 6, \"year\": 1979, \"deaths\": 1139}, {\"month\": 7, \"year\": 1979, \"deaths\": 1284}, {\"month\": 8, \"year\": 1979, \"deaths\": 1579}, {\"month\": 9, \"year\": 1979, \"deaths\": 1719}, {\"month\": 10, \"year\": 1979, \"deaths\": 1619}, {\"month\": 11, \"year\": 1979, \"deaths\": 1778}, {\"month\": 0, \"year\": 1980, \"deaths\": 2084}, {\"month\": 1, \"year\": 1980, \"deaths\": 2004}, {\"month\": 2, \"year\": 1980, \"deaths\": 1656}, {\"month\": 3, \"year\": 1980, \"deaths\": 1627}, {\"month\": 4, \"year\": 1980, \"deaths\": 1515}, {\"month\": 5, \"year\": 1980, \"deaths\": 1643}, {\"month\": 6, \"year\": 1980, \"deaths\": 1645}, {\"month\": 7, \"year\": 1980, \"deaths\": 1548}, {\"month\": 8, \"year\": 1980, \"deaths\": 1681}, {\"month\": 9, \"year\": 1980, \"deaths\": 1594}, {\"month\": 10, \"year\": 1980, \"deaths\": 1427}, {\"month\": 11, \"year\": 1980, \"deaths\": 1444}, {\"month\": 0, \"year\": 1981, \"deaths\": 1653}, {\"month\": 1, \"year\": 1981, \"deaths\": 2008}, {\"month\": 2, \"year\": 1981, \"deaths\": 1992}, {\"month\": 3, \"year\": 1981, \"deaths\": 1976}, {\"month\": 4, \"year\": 1981, \"deaths\": 2080}, {\"month\": 5, \"year\": 1981, \"deaths\": 2077}, {\"month\": 6, \"year\": 1981, \"deaths\": 1561}, {\"month\": 7, \"year\": 1981, \"deaths\": 1748}, {\"month\": 8, \"year\": 1981, \"deaths\": 1685}, {\"month\": 9, \"year\": 1981, \"deaths\": 1683}, {\"month\": 10, \"year\": 1981, \"deaths\": 1653}, {\"month\": 11, \"year\": 1981, \"deaths\": 1827}, {\"month\": 0, \"year\": 1982, \"deaths\": 1938}, {\"month\": 1, \"year\": 1982, \"deaths\": 1850}, {\"month\": 2, \"year\": 1982, \"deaths\": 1487}, {\"month\": 3, \"year\": 1982, \"deaths\": 1575}, {\"month\": 4, \"year\": 1982, \"deaths\": 2152}, {\"month\": 5, \"year\": 1982, \"deaths\": 2242}, {\"month\": 6, \"year\": 1982, \"deaths\": 2233}, {\"month\": 7, \"year\": 1982, \"deaths\": 2397}, {\"month\": 8, \"year\": 1982, \"deaths\": 2118}, {\"month\": 9, \"year\": 1982, \"deaths\": 2092}, {\"month\": 10, \"year\": 1982, \"deaths\": 1905}, {\"month\": 11, \"year\": 1982, \"deaths\": 1958}, {\"month\": 0, \"year\": 1983, \"deaths\": 2000}, {\"month\": 1, \"year\": 1983, \"deaths\": 2050}, {\"month\": 2, \"year\": 1983, \"deaths\": 2016}, {\"month\": 3, \"year\": 1983, \"deaths\": 1737}, {\"month\": 4, \"year\": 1983, \"deaths\": 1868}, {\"month\": 5, \"year\": 1983, \"deaths\": 1998}, {\"month\": 6, \"year\": 1983, \"deaths\": 1483}, {\"month\": 7, \"year\": 1983, \"deaths\": 1737}, {\"month\": 8, \"year\": 1983, \"deaths\": 2148}, {\"month\": 9, \"year\": 1983, \"deaths\": 2478}, {\"month\": 10, \"year\": 1983, \"deaths\": 2192}, {\"month\": 11, \"year\": 1983, \"deaths\": 2654}, {\"month\": 0, \"year\": 1984, \"deaths\": 2150}, {\"month\": 1, \"year\": 1984, \"deaths\": 2051}, {\"month\": 2, \"year\": 1984, \"deaths\": 2199}, {\"month\": 3, \"year\": 1984, \"deaths\": 2274}, {\"month\": 4, \"year\": 1984, \"deaths\": 2215}, {\"month\": 5, \"year\": 1984, \"deaths\": 2262}, {\"month\": 6, \"year\": 1984, \"deaths\": 2207}, {\"month\": 7, \"year\": 1984, \"deaths\": 1941}, {\"month\": 8, \"year\": 1984, \"deaths\": 1726}, {\"month\": 9, \"year\": 1984, \"deaths\": 2079}, {\"month\": 10, \"year\": 1984, \"deaths\": 1513}, {\"month\": 11, \"year\": 1984, \"deaths\": 1763}]}}, {\"mode\": \"vega-lite\"});\n",
              "</script>"
            ]
          },
          "metadata": {
            "tags": []
          },
          "execution_count": 149
        }
      ]
    },
    {
      "cell_type": "markdown",
      "metadata": {
        "id": "lCEyL1bAAY-G"
      },
      "source": [
        "2. Line chart showing the total number of deaths over the years"
      ]
    },
    {
      "cell_type": "code",
      "metadata": {
        "colab": {
          "base_uri": "https://localhost:8080/",
          "height": 385
        },
        "id": "bl_vzlN5zNkn",
        "outputId": "8f9308c7-e24a-4233-93cc-efe2b99b7a2d"
      },
      "source": [
        "alt.Chart(fatalities_df, title=\"Total deaths over the years\").mark_line().encode(\n",
        "  x='year',\n",
        "  y='sum(count)',\n",
        "  tooltip=([alt.Tooltip('sum(count)', title='Total Deaths')])\n",
        ").interactive(bind_y=False)"
      ],
      "execution_count": 165,
      "outputs": [
        {
          "output_type": "execute_result",
          "data": {
            "text/plain": [
              "alt.Chart(...)"
            ],
            "text/html": [
              "\n",
              "<div id=\"altair-viz-a2c769b08df5423d94d0deb472ccdece\"></div>\n",
              "<script type=\"text/javascript\">\n",
              "  (function(spec, embedOpt){\n",
              "    let outputDiv = document.currentScript.previousElementSibling;\n",
              "    if (outputDiv.id !== \"altair-viz-a2c769b08df5423d94d0deb472ccdece\") {\n",
              "      outputDiv = document.getElementById(\"altair-viz-a2c769b08df5423d94d0deb472ccdece\");\n",
              "    }\n",
              "    const paths = {\n",
              "      \"vega\": \"https://cdn.jsdelivr.net/npm//vega@5?noext\",\n",
              "      \"vega-lib\": \"https://cdn.jsdelivr.net/npm//vega-lib?noext\",\n",
              "      \"vega-lite\": \"https://cdn.jsdelivr.net/npm//vega-lite@4.8.1?noext\",\n",
              "      \"vega-embed\": \"https://cdn.jsdelivr.net/npm//vega-embed@6?noext\",\n",
              "    };\n",
              "\n",
              "    function loadScript(lib) {\n",
              "      return new Promise(function(resolve, reject) {\n",
              "        var s = document.createElement('script');\n",
              "        s.src = paths[lib];\n",
              "        s.async = true;\n",
              "        s.onload = () => resolve(paths[lib]);\n",
              "        s.onerror = () => reject(`Error loading script: ${paths[lib]}`);\n",
              "        document.getElementsByTagName(\"head\")[0].appendChild(s);\n",
              "      });\n",
              "    }\n",
              "\n",
              "    function showError(err) {\n",
              "      outputDiv.innerHTML = `<div class=\"error\" style=\"color:red;\">${err}</div>`;\n",
              "      throw err;\n",
              "    }\n",
              "\n",
              "    function displayChart(vegaEmbed) {\n",
              "      vegaEmbed(outputDiv, spec, embedOpt)\n",
              "        .catch(err => showError(`Javascript Error: ${err.message}<br>This usually means there's a typo in your chart specification. See the javascript console for the full traceback.`));\n",
              "    }\n",
              "\n",
              "    if(typeof define === \"function\" && define.amd) {\n",
              "      requirejs.config({paths});\n",
              "      require([\"vega-embed\"], displayChart, err => showError(`Error loading script: ${err.message}`));\n",
              "    } else if (typeof vegaEmbed === \"function\") {\n",
              "      displayChart(vegaEmbed);\n",
              "    } else {\n",
              "      loadScript(\"vega\")\n",
              "        .then(() => loadScript(\"vega-lite\"))\n",
              "        .then(() => loadScript(\"vega-embed\"))\n",
              "        .catch(showError)\n",
              "        .then(() => displayChart(vegaEmbed));\n",
              "    }\n",
              "  })({\"config\": {\"view\": {\"continuousWidth\": 400, \"continuousHeight\": 300}}, \"data\": {\"name\": \"data-eae90cd30d19b4e3984d21939666a3f3\"}, \"mark\": \"line\", \"encoding\": {\"tooltip\": [{\"type\": \"quantitative\", \"aggregate\": \"sum\", \"field\": \"count\", \"title\": \"Total Deaths\"}], \"x\": {\"type\": \"quantitative\", \"field\": \"year\"}, \"y\": {\"type\": \"quantitative\", \"aggregate\": \"sum\", \"field\": \"count\"}}, \"selection\": {\"selector061\": {\"type\": \"interval\", \"bind\": \"scales\", \"encodings\": [\"x\"]}}, \"title\": \"Total deaths over the years\", \"$schema\": \"https://vega.github.io/schema/vega-lite/v4.8.1.json\", \"datasets\": {\"data-eae90cd30d19b4e3984d21939666a3f3\": [{\"month\": 0, \"year\": 1969, \"count\": 1687}, {\"month\": 1, \"year\": 1969, \"count\": 1508}, {\"month\": 2, \"year\": 1969, \"count\": 1507}, {\"month\": 3, \"year\": 1969, \"count\": 1385}, {\"month\": 4, \"year\": 1969, \"count\": 1632}, {\"month\": 5, \"year\": 1969, \"count\": 1511}, {\"month\": 6, \"year\": 1969, \"count\": 1559}, {\"month\": 7, \"year\": 1969, \"count\": 1630}, {\"month\": 8, \"year\": 1969, \"count\": 1579}, {\"month\": 9, \"year\": 1969, \"count\": 1653}, {\"month\": 10, \"year\": 1969, \"count\": 2152}, {\"month\": 11, \"year\": 1969, \"count\": 2148}, {\"month\": 0, \"year\": 1970, \"count\": 1752}, {\"month\": 1, \"year\": 1970, \"count\": 1765}, {\"month\": 2, \"year\": 1970, \"count\": 1717}, {\"month\": 3, \"year\": 1970, \"count\": 1558}, {\"month\": 4, \"year\": 1970, \"count\": 1575}, {\"month\": 5, \"year\": 1970, \"count\": 1520}, {\"month\": 6, \"year\": 1970, \"count\": 1805}, {\"month\": 7, \"year\": 1970, \"count\": 1800}, {\"month\": 8, \"year\": 1970, \"count\": 1719}, {\"month\": 9, \"year\": 1970, \"count\": 2008}, {\"month\": 10, \"year\": 1970, \"count\": 2242}, {\"month\": 11, \"year\": 1970, \"count\": 2478}, {\"month\": 0, \"year\": 1971, \"count\": 2030}, {\"month\": 1, \"year\": 1971, \"count\": 1655}, {\"month\": 2, \"year\": 1971, \"count\": 1693}, {\"month\": 3, \"year\": 1971, \"count\": 1623}, {\"month\": 4, \"year\": 1971, \"count\": 1805}, {\"month\": 5, \"year\": 1971, \"count\": 1746}, {\"month\": 6, \"year\": 1971, \"count\": 1795}, {\"month\": 7, \"year\": 1971, \"count\": 1926}, {\"month\": 8, \"year\": 1971, \"count\": 1619}, {\"month\": 9, \"year\": 1971, \"count\": 1992}, {\"month\": 10, \"year\": 1971, \"count\": 2233}, {\"month\": 11, \"year\": 1971, \"count\": 2192}, {\"month\": 0, \"year\": 1972, \"count\": 2080}, {\"month\": 1, \"year\": 1972, \"count\": 1768}, {\"month\": 2, \"year\": 1972, \"count\": 1835}, {\"month\": 3, \"year\": 1972, \"count\": 1569}, {\"month\": 4, \"year\": 1972, \"count\": 1976}, {\"month\": 5, \"year\": 1972, \"count\": 1853}, {\"month\": 6, \"year\": 1972, \"count\": 1965}, {\"month\": 7, \"year\": 1972, \"count\": 1689}, {\"month\": 8, \"year\": 1972, \"count\": 1778}, {\"month\": 9, \"year\": 1972, \"count\": 1976}, {\"month\": 10, \"year\": 1972, \"count\": 2397}, {\"month\": 11, \"year\": 1972, \"count\": 2654}, {\"month\": 0, \"year\": 1973, \"count\": 2097}, {\"month\": 1, \"year\": 1973, \"count\": 1963}, {\"month\": 2, \"year\": 1973, \"count\": 1677}, {\"month\": 3, \"year\": 1973, \"count\": 1941}, {\"month\": 4, \"year\": 1973, \"count\": 2003}, {\"month\": 5, \"year\": 1973, \"count\": 1813}, {\"month\": 6, \"year\": 1973, \"count\": 2012}, {\"month\": 7, \"year\": 1973, \"count\": 1912}, {\"month\": 8, \"year\": 1973, \"count\": 2084}, {\"month\": 9, \"year\": 1973, \"count\": 2080}, {\"month\": 10, \"year\": 1973, \"count\": 2118}, {\"month\": 11, \"year\": 1973, \"count\": 2150}, {\"month\": 0, \"year\": 1974, \"count\": 1608}, {\"month\": 1, \"year\": 1974, \"count\": 1503}, {\"month\": 2, \"year\": 1974, \"count\": 1548}, {\"month\": 3, \"year\": 1974, \"count\": 1382}, {\"month\": 4, \"year\": 1974, \"count\": 1731}, {\"month\": 5, \"year\": 1974, \"count\": 1798}, {\"month\": 6, \"year\": 1974, \"count\": 1779}, {\"month\": 7, \"year\": 1974, \"count\": 1887}, {\"month\": 8, \"year\": 1974, \"count\": 2004}, {\"month\": 9, \"year\": 1974, \"count\": 2077}, {\"month\": 10, \"year\": 1974, \"count\": 2092}, {\"month\": 11, \"year\": 1974, \"count\": 2051}, {\"month\": 0, \"year\": 1975, \"count\": 1577}, {\"month\": 1, \"year\": 1975, \"count\": 1356}, {\"month\": 2, \"year\": 1975, \"count\": 1652}, {\"month\": 3, \"year\": 1975, \"count\": 1382}, {\"month\": 4, \"year\": 1975, \"count\": 1519}, {\"month\": 5, \"year\": 1975, \"count\": 1421}, {\"month\": 6, \"year\": 1975, \"count\": 1442}, {\"month\": 7, \"year\": 1975, \"count\": 1543}, {\"month\": 8, \"year\": 1975, \"count\": 1656}, {\"month\": 9, \"year\": 1975, \"count\": 1561}, {\"month\": 10, \"year\": 1975, \"count\": 1905}, {\"month\": 11, \"year\": 1975, \"count\": 2199}, {\"month\": 0, \"year\": 1976, \"count\": 1473}, {\"month\": 1, \"year\": 1976, \"count\": 1655}, {\"month\": 2, \"year\": 1976, \"count\": 1407}, {\"month\": 3, \"year\": 1976, \"count\": 1395}, {\"month\": 4, \"year\": 1976, \"count\": 1530}, {\"month\": 5, \"year\": 1976, \"count\": 1309}, {\"month\": 6, \"year\": 1976, \"count\": 1526}, {\"month\": 7, \"year\": 1976, \"count\": 1327}, {\"month\": 8, \"year\": 1976, \"count\": 1627}, {\"month\": 9, \"year\": 1976, \"count\": 1748}, {\"month\": 10, \"year\": 1976, \"count\": 1958}, {\"month\": 11, \"year\": 1976, \"count\": 2274}, {\"month\": 0, \"year\": 1977, \"count\": 1648}, {\"month\": 1, \"year\": 1977, \"count\": 1401}, {\"month\": 2, \"year\": 1977, \"count\": 1411}, {\"month\": 3, \"year\": 1977, \"count\": 1403}, {\"month\": 4, \"year\": 1977, \"count\": 1394}, {\"month\": 5, \"year\": 1977, \"count\": 1520}, {\"month\": 6, \"year\": 1977, \"count\": 1528}, {\"month\": 7, \"year\": 1977, \"count\": 1643}, {\"month\": 8, \"year\": 1977, \"count\": 1515}, {\"month\": 9, \"year\": 1977, \"count\": 1685}, {\"month\": 10, \"year\": 1977, \"count\": 2000}, {\"month\": 11, \"year\": 1977, \"count\": 2215}, {\"month\": 0, \"year\": 1978, \"count\": 1956}, {\"month\": 1, \"year\": 1978, \"count\": 1462}, {\"month\": 2, \"year\": 1978, \"count\": 1563}, {\"month\": 3, \"year\": 1978, \"count\": 1459}, {\"month\": 4, \"year\": 1978, \"count\": 1446}, {\"month\": 5, \"year\": 1978, \"count\": 1622}, {\"month\": 6, \"year\": 1978, \"count\": 1657}, {\"month\": 7, \"year\": 1978, \"count\": 1638}, {\"month\": 8, \"year\": 1978, \"count\": 1643}, {\"month\": 9, \"year\": 1978, \"count\": 1683}, {\"month\": 10, \"year\": 1978, \"count\": 2050}, {\"month\": 11, \"year\": 1978, \"count\": 2262}, {\"month\": 0, \"year\": 1979, \"count\": 1813}, {\"month\": 1, \"year\": 1979, \"count\": 1445}, {\"month\": 2, \"year\": 1979, \"count\": 1762}, {\"month\": 3, \"year\": 1979, \"count\": 1461}, {\"month\": 4, \"year\": 1979, \"count\": 1556}, {\"month\": 5, \"year\": 1979, \"count\": 1431}, {\"month\": 6, \"year\": 1979, \"count\": 1427}, {\"month\": 7, \"year\": 1979, \"count\": 1554}, {\"month\": 8, \"year\": 1979, \"count\": 1645}, {\"month\": 9, \"year\": 1979, \"count\": 1653}, {\"month\": 10, \"year\": 1979, \"count\": 2016}, {\"month\": 11, \"year\": 1979, \"count\": 2207}, {\"month\": 0, \"year\": 1980, \"count\": 1665}, {\"month\": 1, \"year\": 1980, \"count\": 1361}, {\"month\": 2, \"year\": 1980, \"count\": 1506}, {\"month\": 3, \"year\": 1980, \"count\": 1360}, {\"month\": 4, \"year\": 1980, \"count\": 1453}, {\"month\": 5, \"year\": 1980, \"count\": 1522}, {\"month\": 6, \"year\": 1980, \"count\": 1460}, {\"month\": 7, \"year\": 1980, \"count\": 1552}, {\"month\": 8, \"year\": 1980, \"count\": 1548}, {\"month\": 9, \"year\": 1980, \"count\": 1827}, {\"month\": 10, \"year\": 1980, \"count\": 1737}, {\"month\": 11, \"year\": 1980, \"count\": 1941}, {\"month\": 0, \"year\": 1981, \"count\": 1474}, {\"month\": 1, \"year\": 1981, \"count\": 1458}, {\"month\": 2, \"year\": 1981, \"count\": 1542}, {\"month\": 3, \"year\": 1981, \"count\": 1404}, {\"month\": 4, \"year\": 1981, \"count\": 1522}, {\"month\": 5, \"year\": 1981, \"count\": 1385}, {\"month\": 6, \"year\": 1981, \"count\": 1641}, {\"month\": 7, \"year\": 1981, \"count\": 1510}, {\"month\": 8, \"year\": 1981, \"count\": 1681}, {\"month\": 9, \"year\": 1981, \"count\": 1938}, {\"month\": 10, \"year\": 1981, \"count\": 1868}, {\"month\": 11, \"year\": 1981, \"count\": 1726}, {\"month\": 0, \"year\": 1982, \"count\": 1456}, {\"month\": 1, \"year\": 1982, \"count\": 1445}, {\"month\": 2, \"year\": 1982, \"count\": 1456}, {\"month\": 3, \"year\": 1982, \"count\": 1365}, {\"month\": 4, \"year\": 1982, \"count\": 1487}, {\"month\": 5, \"year\": 1982, \"count\": 1558}, {\"month\": 6, \"year\": 1982, \"count\": 1488}, {\"month\": 7, \"year\": 1982, \"count\": 1684}, {\"month\": 8, \"year\": 1982, \"count\": 1594}, {\"month\": 9, \"year\": 1982, \"count\": 1850}, {\"month\": 10, \"year\": 1982, \"count\": 1998}, {\"month\": 11, \"year\": 1982, \"count\": 2079}, {\"month\": 0, \"year\": 1983, \"count\": 1494}, {\"month\": 1, \"year\": 1983, \"count\": 1057}, {\"month\": 2, \"year\": 1983, \"count\": 1218}, {\"month\": 3, \"year\": 1983, \"count\": 1168}, {\"month\": 4, \"year\": 1983, \"count\": 1236}, {\"month\": 5, \"year\": 1983, \"count\": 1076}, {\"month\": 6, \"year\": 1983, \"count\": 1174}, {\"month\": 7, \"year\": 1983, \"count\": 1139}, {\"month\": 8, \"year\": 1983, \"count\": 1427}, {\"month\": 9, \"year\": 1983, \"count\": 1487}, {\"month\": 10, \"year\": 1983, \"count\": 1483}, {\"month\": 11, \"year\": 1983, \"count\": 1513}, {\"month\": 0, \"year\": 1984, \"count\": 1357}, {\"month\": 1, \"year\": 1984, \"count\": 1165}, {\"month\": 2, \"year\": 1984, \"count\": 1282}, {\"month\": 3, \"year\": 1984, \"count\": 1110}, {\"month\": 4, \"year\": 1984, \"count\": 1297}, {\"month\": 5, \"year\": 1984, \"count\": 1185}, {\"month\": 6, \"year\": 1984, \"count\": 1222}, {\"month\": 7, \"year\": 1984, \"count\": 1284}, {\"month\": 8, \"year\": 1984, \"count\": 1444}, {\"month\": 9, \"year\": 1984, \"count\": 1575}, {\"month\": 10, \"year\": 1984, \"count\": 1737}, {\"month\": 11, \"year\": 1984, \"count\": 1763}]}}, {\"mode\": \"vega-lite\"});\n",
              "</script>"
            ]
          },
          "metadata": {
            "tags": []
          },
          "execution_count": 165
        }
      ]
    },
    {
      "cell_type": "code",
      "metadata": {
        "id": "7ViXc33cJl6i"
      },
      "source": [
        ""
      ],
      "execution_count": null,
      "outputs": []
    }
  ]
}