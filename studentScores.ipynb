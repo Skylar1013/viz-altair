{
 "cells": [
  {
   "cell_type": "markdown",
   "metadata": {
    "id": "TrwD-AkYB4_2"
   },
   "source": [
    "# Interactive Scatter Plot in Altair\n",
    "\n",
    "Interactive scatter plot from data stored in a Pandas dataframe for college student scores"
   ]
  },
  {
   "cell_type": "code",
   "execution_count": null,
   "metadata": {
    "id": "gZglQH8C7Oyn"
   },
   "outputs": [],
   "source": [
    "%matplotlib inline\n",
    "import pandas as pd\n",
    "import altair as alt"
   ]
  },
  {
   "cell_type": "code",
   "execution_count": null,
   "metadata": {
    "colab": {
     "base_uri": "https://localhost:8080/",
     "height": 204
    },
    "id": "ykdeOnrlAQcJ",
    "outputId": "1ef5a699-9edd-47b0-f35a-a8604ba1dede"
   },
   "outputs": [],
   "source": [
    "college_scores_df = pd.read_csv('./data/calvinCollegeSeniorScores.csv')\n",
    "college_scores_df.head()"
   ]
  },
  {
   "cell_type": "markdown",
   "metadata": {},
   "source": [
    "## Task 1\n",
    "\n",
    "### Interactive Scatter Plot\n",
    "\n",
    "Scatter plot of SATM vs SATV scores\n",
    "  - x coordinate encodes SATM scores\n",
    "  - y coordinate encodes SATV scores\n",
    "  - radius of points represents ACT scores\n",
    "  - color represents GPA scores.\n",
    "\n",
    "#### Features\n",
    "  - Interactive plot\n",
    "  - Zoom and Pan interactions\n",
    "  - Tooltips showing SATM, SATV, ACT, and GPA\n",
    "  - Legends"
   ]
  },
  {
   "cell_type": "code",
   "execution_count": null,
   "metadata": {
    "colab": {
     "base_uri": "https://localhost:8080/",
     "height": 412
    },
    "id": "GLYytBN5BDG5",
    "outputId": "19e1c661-c8bc-4b7d-f198-5273c4940a66"
   },
   "outputs": [],
   "source": [
    "alt.Chart(college_scores_df).mark_point(\n",
    "        filled=True,\n",
    "        opacity=0.3).encode(\n",
    "          x='SATM',\n",
    "          y='SATV',\n",
    "          color='GPA',\n",
    "          size='ACT',\n",
    "          tooltip=(['SATM', 'SATV', 'GPA', 'ACT'])).interactive()"
   ]
  },
  {
   "cell_type": "markdown",
   "metadata": {
    "id": "_3Oh893r9fOi"
   },
   "source": [
    "## Task 2\n",
    "\n",
    "### Scatter Plot with Linked Brushing\n",
    "\n",
    "Visualize dataset as scatter plot with linked brushing\n",
    "  - Two scatterplots\n",
    "    - SATM and SATV\n",
    "    - ACT and GPA\n",
    "  - Linked views with brushing techniques"
   ]
  },
  {
   "cell_type": "code",
   "execution_count": null,
   "metadata": {
    "colab": {
     "base_uri": "https://localhost:8080/",
     "height": 387
    },
    "id": "7Gd7RkcdVael",
    "outputId": "598d724f-eff3-4b69-e8fc-2fc93f032780"
   },
   "outputs": [],
   "source": [
    "brush = alt.selection_interval()\n",
    "color_condition = alt.condition(brush, 'GPA', alt.value('lightgray'))\n",
    "\n",
    "plot_1 = alt.Chart(college_scores_df, title=\"SATM vs SATV\").mark_point(filled=True).encode(\n",
    "  x='SATM',\n",
    "  y='SATV',\n",
    "  color=color_condition,\n",
    "  tooltip=(['SATM', 'SATV'])\n",
    ").add_selection(brush)\n",
    "\n",
    "plot_2 = alt.Chart(college_scores_df, title=\"ACT vs GPA\").mark_point(filled=True).encode(\n",
    "  x='ACT',\n",
    "  y='GPA',\n",
    "  color=color_condition,\n",
    "  tooltip=(['ACT', 'GPA'])\n",
    ").add_selection(brush)\n",
    "\n",
    "plot_1 | plot_2"
   ]
  }
 ],
 "metadata": {
  "colab": {
   "collapsed_sections": [],
   "include_colab_link": true,
   "name": "altair.ipynb",
   "provenance": [],
   "toc_visible": true
  },
  "kernelspec": {
   "display_name": "Python 3",
   "language": "python",
   "name": "python3"
  },
  "language_info": {
   "codemirror_mode": {
    "name": "ipython",
    "version": 3
   },
   "file_extension": ".py",
   "mimetype": "text/x-python",
   "name": "python",
   "nbconvert_exporter": "python",
   "pygments_lexer": "ipython3",
   "version": "3.8.5"
  }
 },
 "nbformat": 4,
 "nbformat_minor": 1
}
